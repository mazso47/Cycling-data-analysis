{
 "cells": [
  {
   "cell_type": "markdown",
   "id": "73d235f1",
   "metadata": {},
   "source": [
    "# Statistical Data Analysis: Final Project\n",
    "Student: Zsombor Malatinszki"
   ]
  },
  {
   "cell_type": "code",
   "execution_count": 110,
   "id": "e73ed7f1",
   "metadata": {},
   "outputs": [],
   "source": [
    "import pandas as pd\n",
    "import numpy as np\n",
    "import matplotlib.pyplot as plt\n",
    "import scipy as sp\n",
    "from scipy import stats\n",
    "\n",
    "from scipy.stats import zscore\n",
    "from scipy.stats import chi2_contingency"
   ]
  },
  {
   "cell_type": "markdown",
   "id": "e1f04947",
   "metadata": {},
   "source": [
    "One sentence deserves to be highlighted for later reference from the introductory description:\n",
    "\n",
    "\"Since there is no information about who rented the bikes, you can assume that each trip was made by a different person.\" -> independent/unpaired observations\n",
    "\n",
    "As well as the description of the variables:"
   ]
  },
  {
   "attachments": {
    "image.png": {
     "image/png": "[encoded data removed]"
    }
   },
   "cell_type": "markdown",
   "id": "2944e027",
   "metadata": {},
   "source": [
    "![image.png](attachment:image.png)\n"
   ]
  },
  {
   "cell_type": "markdown",
   "id": "740d367b",
   "metadata": {},
   "source": [
    "# 1. Data preparation"
   ]
  },
  {
   "cell_type": "code",
   "execution_count": 3,
   "id": "51a603bf",
   "metadata": {},
   "outputs": [],
   "source": [
    "bikes_raw = pd.read_csv(\"bikes.data\", header=0, sep=',')"
   ]
  },
  {
   "cell_type": "code",
   "execution_count": 4,
   "id": "735a4931",
   "metadata": {},
   "outputs": [
    {
     "data": {
      "text/html": [
       "<div>\n",
       "<style scoped>\n",
       "    .dataframe tbody tr th:only-of-type {\n",
       "        vertical-align: middle;\n",
       "    }\n",
       "\n",
       "    .dataframe tbody tr th {\n",
       "        vertical-align: top;\n",
       "    }\n",
       "\n",
       "    .dataframe thead th {\n",
       "        text-align: right;\n",
       "    }\n",
       "</style>\n",
       "<table border=\"1\" class=\"dataframe\">\n",
       "  <thead>\n",
       "    <tr style=\"text-align: right;\">\n",
       "      <th></th>\n",
       "      <th>ticket</th>\n",
       "      <th>cost</th>\n",
       "      <th>month</th>\n",
       "      <th>location_from</th>\n",
       "      <th>location_to</th>\n",
       "      <th>duration</th>\n",
       "      <th>distance</th>\n",
       "      <th>assistance</th>\n",
       "      <th>energy_used</th>\n",
       "      <th>energy_collected</th>\n",
       "    </tr>\n",
       "  </thead>\n",
       "  <tbody>\n",
       "    <tr>\n",
       "      <th>0</th>\n",
       "      <td>single</td>\n",
       "      <td>0.35</td>\n",
       "      <td>9</td>\n",
       "      <td>MICROTEKNIA</td>\n",
       "      <td>PUIJONLAAKSO</td>\n",
       "      <td>411.0</td>\n",
       "      <td>2150</td>\n",
       "      <td>1</td>\n",
       "      <td>19.0</td>\n",
       "      <td>2.7</td>\n",
       "    </tr>\n",
       "    <tr>\n",
       "      <th>1</th>\n",
       "      <td>single</td>\n",
       "      <td>1.20</td>\n",
       "      <td>5</td>\n",
       "      <td>SATAMA</td>\n",
       "      <td>KEILANKANTA</td>\n",
       "      <td>1411.0</td>\n",
       "      <td>7130</td>\n",
       "      <td>1</td>\n",
       "      <td>53.8</td>\n",
       "      <td>15.3</td>\n",
       "    </tr>\n",
       "    <tr>\n",
       "      <th>2</th>\n",
       "      <td>savonia</td>\n",
       "      <td>0.00</td>\n",
       "      <td>9</td>\n",
       "      <td>TASAVALLANKATU</td>\n",
       "      <td>NEULAMÄKI</td>\n",
       "      <td>1308.0</td>\n",
       "      <td>5420</td>\n",
       "      <td>1</td>\n",
       "      <td>43.0</td>\n",
       "      <td>9.9</td>\n",
       "    </tr>\n",
       "    <tr>\n",
       "      <th>3</th>\n",
       "      <td>savonia</td>\n",
       "      <td>0.00</td>\n",
       "      <td>10</td>\n",
       "      <td>TORI</td>\n",
       "      <td>KAUPPAKATU</td>\n",
       "      <td>1036.0</td>\n",
       "      <td>1180</td>\n",
       "      <td>1</td>\n",
       "      <td>6.5</td>\n",
       "      <td>2.1</td>\n",
       "    </tr>\n",
       "    <tr>\n",
       "      <th>4</th>\n",
       "      <td>single</td>\n",
       "      <td>0.30</td>\n",
       "      <td>9</td>\n",
       "      <td>TORI</td>\n",
       "      <td>TORI</td>\n",
       "      <td>319.0</td>\n",
       "      <td>1120</td>\n",
       "      <td>1</td>\n",
       "      <td>13.7</td>\n",
       "      <td>1.2</td>\n",
       "    </tr>\n",
       "    <tr>\n",
       "      <th>...</th>\n",
       "      <td>...</td>\n",
       "      <td>...</td>\n",
       "      <td>...</td>\n",
       "      <td>...</td>\n",
       "      <td>...</td>\n",
       "      <td>...</td>\n",
       "      <td>...</td>\n",
       "      <td>...</td>\n",
       "      <td>...</td>\n",
       "      <td>...</td>\n",
       "    </tr>\n",
       "    <tr>\n",
       "      <th>1769</th>\n",
       "      <td>savonia</td>\n",
       "      <td>0.00</td>\n",
       "      <td>10</td>\n",
       "      <td>KAUPPAKATU</td>\n",
       "      <td>TORI</td>\n",
       "      <td>836.0</td>\n",
       "      <td>960</td>\n",
       "      <td>1</td>\n",
       "      <td>8.0</td>\n",
       "      <td>2.7</td>\n",
       "    </tr>\n",
       "    <tr>\n",
       "      <th>1770</th>\n",
       "      <td>single</td>\n",
       "      <td>0.20</td>\n",
       "      <td>7</td>\n",
       "      <td>TORI</td>\n",
       "      <td>SATAMA</td>\n",
       "      <td>199.0</td>\n",
       "      <td>930</td>\n",
       "      <td>1</td>\n",
       "      <td>3.7</td>\n",
       "      <td>3.6</td>\n",
       "    </tr>\n",
       "    <tr>\n",
       "      <th>1771</th>\n",
       "      <td>season</td>\n",
       "      <td>0.00</td>\n",
       "      <td>7</td>\n",
       "      <td>TORI</td>\n",
       "      <td>TORI</td>\n",
       "      <td>61.0</td>\n",
       "      <td>0</td>\n",
       "      <td>1</td>\n",
       "      <td>0.0</td>\n",
       "      <td>0.0</td>\n",
       "    </tr>\n",
       "    <tr>\n",
       "      <th>1772</th>\n",
       "      <td>savonia</td>\n",
       "      <td>0.00</td>\n",
       "      <td>9</td>\n",
       "      <td>MICROTEKNIA</td>\n",
       "      <td>PUIJONLAAKSO</td>\n",
       "      <td>610.0</td>\n",
       "      <td>2460</td>\n",
       "      <td>1</td>\n",
       "      <td>36.5</td>\n",
       "      <td>6.9</td>\n",
       "    </tr>\n",
       "    <tr>\n",
       "      <th>1773</th>\n",
       "      <td>season</td>\n",
       "      <td>0.00</td>\n",
       "      <td>8</td>\n",
       "      <td>PUIJONLAAKSO</td>\n",
       "      <td>KAUPPAKATU</td>\n",
       "      <td>478.0</td>\n",
       "      <td>2250</td>\n",
       "      <td>1</td>\n",
       "      <td>8.1</td>\n",
       "      <td>13.8</td>\n",
       "    </tr>\n",
       "  </tbody>\n",
       "</table>\n",
       "<p>1774 rows × 10 columns</p>\n",
       "</div>"
      ],
      "text/plain": [
       "       ticket  cost  month   location_from   location_to  duration  distance  \\\n",
       "0      single  0.35      9     MICROTEKNIA  PUIJONLAAKSO     411.0      2150   \n",
       "1      single  1.20      5          SATAMA   KEILANKANTA    1411.0      7130   \n",
       "2     savonia  0.00      9  TASAVALLANKATU     NEULAMÄKI    1308.0      5420   \n",
       "3     savonia  0.00     10            TORI    KAUPPAKATU    1036.0      1180   \n",
       "4      single  0.30      9            TORI          TORI     319.0      1120   \n",
       "...       ...   ...    ...             ...           ...       ...       ...   \n",
       "1769  savonia  0.00     10      KAUPPAKATU          TORI     836.0       960   \n",
       "1770   single  0.20      7            TORI        SATAMA     199.0       930   \n",
       "1771   season  0.00      7            TORI          TORI      61.0         0   \n",
       "1772  savonia  0.00      9     MICROTEKNIA  PUIJONLAAKSO     610.0      2460   \n",
       "1773   season  0.00      8    PUIJONLAAKSO    KAUPPAKATU     478.0      2250   \n",
       "\n",
       "      assistance  energy_used  energy_collected  \n",
       "0              1         19.0               2.7  \n",
       "1              1         53.8              15.3  \n",
       "2              1         43.0               9.9  \n",
       "3              1          6.5               2.1  \n",
       "4              1         13.7               1.2  \n",
       "...          ...          ...               ...  \n",
       "1769           1          8.0               2.7  \n",
       "1770           1          3.7               3.6  \n",
       "1771           1          0.0               0.0  \n",
       "1772           1         36.5               6.9  \n",
       "1773           1          8.1              13.8  \n",
       "\n",
       "[1774 rows x 10 columns]"
      ]
     },
     "execution_count": 4,
     "metadata": {},
     "output_type": "execute_result"
    }
   ],
   "source": [
    "bikes_raw"
   ]
  },
  {
   "cell_type": "code",
   "execution_count": 5,
   "id": "5506f0c2",
   "metadata": {},
   "outputs": [
    {
     "name": "stdout",
     "output_type": "stream",
     "text": [
      "<class 'pandas.core.frame.DataFrame'>\n",
      "RangeIndex: 1774 entries, 0 to 1773\n",
      "Data columns (total 10 columns):\n",
      " #   Column            Non-Null Count  Dtype  \n",
      "---  ------            --------------  -----  \n",
      " 0   ticket            1774 non-null   object \n",
      " 1   cost              1774 non-null   float64\n",
      " 2   month             1774 non-null   int64  \n",
      " 3   location_from     1774 non-null   object \n",
      " 4   location_to       1774 non-null   object \n",
      " 5   duration          1774 non-null   float64\n",
      " 6   distance          1774 non-null   int64  \n",
      " 7   assistance        1774 non-null   int64  \n",
      " 8   energy_used       1774 non-null   float64\n",
      " 9   energy_collected  1774 non-null   float64\n",
      "dtypes: float64(4), int64(3), object(3)\n",
      "memory usage: 138.7+ KB\n"
     ]
    }
   ],
   "source": [
    "bikes_raw.info()"
   ]
  },
  {
   "cell_type": "code",
   "execution_count": 6,
   "id": "883d4267",
   "metadata": {
    "scrolled": true
   },
   "outputs": [
    {
     "data": {
      "text/html": [
       "<div>\n",
       "<style scoped>\n",
       "    .dataframe tbody tr th:only-of-type {\n",
       "        vertical-align: middle;\n",
       "    }\n",
       "\n",
       "    .dataframe tbody tr th {\n",
       "        vertical-align: top;\n",
       "    }\n",
       "\n",
       "    .dataframe thead th {\n",
       "        text-align: right;\n",
       "    }\n",
       "</style>\n",
       "<table border=\"1\" class=\"dataframe\">\n",
       "  <thead>\n",
       "    <tr style=\"text-align: right;\">\n",
       "      <th></th>\n",
       "      <th>cost</th>\n",
       "      <th>month</th>\n",
       "      <th>duration</th>\n",
       "      <th>distance</th>\n",
       "      <th>assistance</th>\n",
       "      <th>energy_used</th>\n",
       "      <th>energy_collected</th>\n",
       "    </tr>\n",
       "  </thead>\n",
       "  <tbody>\n",
       "    <tr>\n",
       "      <th>count</th>\n",
       "      <td>1774.000000</td>\n",
       "      <td>1774.000000</td>\n",
       "      <td>1774.000000</td>\n",
       "      <td>1774.000000</td>\n",
       "      <td>1774.000000</td>\n",
       "      <td>1774.000000</td>\n",
       "      <td>1774.000000</td>\n",
       "    </tr>\n",
       "    <tr>\n",
       "      <th>mean</th>\n",
       "      <td>0.491234</td>\n",
       "      <td>7.233371</td>\n",
       "      <td>671.323563</td>\n",
       "      <td>2460.067644</td>\n",
       "      <td>0.916009</td>\n",
       "      <td>17.399493</td>\n",
       "      <td>5.639290</td>\n",
       "    </tr>\n",
       "    <tr>\n",
       "      <th>std</th>\n",
       "      <td>4.127344</td>\n",
       "      <td>1.720351</td>\n",
       "      <td>1141.708627</td>\n",
       "      <td>2352.529305</td>\n",
       "      <td>0.277452</td>\n",
       "      <td>17.194463</td>\n",
       "      <td>6.379593</td>\n",
       "    </tr>\n",
       "    <tr>\n",
       "      <th>min</th>\n",
       "      <td>0.000000</td>\n",
       "      <td>4.000000</td>\n",
       "      <td>2.000000</td>\n",
       "      <td>-3380.000000</td>\n",
       "      <td>0.000000</td>\n",
       "      <td>0.000000</td>\n",
       "      <td>0.000000</td>\n",
       "    </tr>\n",
       "    <tr>\n",
       "      <th>25%</th>\n",
       "      <td>0.000000</td>\n",
       "      <td>6.000000</td>\n",
       "      <td>245.250000</td>\n",
       "      <td>910.000000</td>\n",
       "      <td>1.000000</td>\n",
       "      <td>1.425000</td>\n",
       "      <td>0.600000</td>\n",
       "    </tr>\n",
       "    <tr>\n",
       "      <th>50%</th>\n",
       "      <td>0.050000</td>\n",
       "      <td>7.000000</td>\n",
       "      <td>546.500000</td>\n",
       "      <td>2030.000000</td>\n",
       "      <td>1.000000</td>\n",
       "      <td>14.350000</td>\n",
       "      <td>3.900000</td>\n",
       "    </tr>\n",
       "    <tr>\n",
       "      <th>75%</th>\n",
       "      <td>0.550000</td>\n",
       "      <td>9.000000</td>\n",
       "      <td>877.750000</td>\n",
       "      <td>3605.000000</td>\n",
       "      <td>1.000000</td>\n",
       "      <td>26.900000</td>\n",
       "      <td>8.325000</td>\n",
       "    </tr>\n",
       "    <tr>\n",
       "      <th>max</th>\n",
       "      <td>100.000000</td>\n",
       "      <td>10.000000</td>\n",
       "      <td>25614.000000</td>\n",
       "      <td>20770.000000</td>\n",
       "      <td>1.000000</td>\n",
       "      <td>144.900000</td>\n",
       "      <td>56.400000</td>\n",
       "    </tr>\n",
       "  </tbody>\n",
       "</table>\n",
       "</div>"
      ],
      "text/plain": [
       "              cost        month      duration      distance   assistance  \\\n",
       "count  1774.000000  1774.000000   1774.000000   1774.000000  1774.000000   \n",
       "mean      0.491234     7.233371    671.323563   2460.067644     0.916009   \n",
       "std       4.127344     1.720351   1141.708627   2352.529305     0.277452   \n",
       "min       0.000000     4.000000      2.000000  -3380.000000     0.000000   \n",
       "25%       0.000000     6.000000    245.250000    910.000000     1.000000   \n",
       "50%       0.050000     7.000000    546.500000   2030.000000     1.000000   \n",
       "75%       0.550000     9.000000    877.750000   3605.000000     1.000000   \n",
       "max     100.000000    10.000000  25614.000000  20770.000000     1.000000   \n",
       "\n",
       "       energy_used  energy_collected  \n",
       "count  1774.000000       1774.000000  \n",
       "mean     17.399493          5.639290  \n",
       "std      17.194463          6.379593  \n",
       "min       0.000000          0.000000  \n",
       "25%       1.425000          0.600000  \n",
       "50%      14.350000          3.900000  \n",
       "75%      26.900000          8.325000  \n",
       "max     144.900000         56.400000  "
      ]
     },
     "execution_count": 6,
     "metadata": {},
     "output_type": "execute_result"
    }
   ],
   "source": [
    "bikes_raw.describe()"
   ]
  },
  {
   "cell_type": "markdown",
   "id": "31dd7a66",
   "metadata": {},
   "source": [
    "## Unique values and datatypes"
   ]
  },
  {
   "cell_type": "code",
   "execution_count": 7,
   "id": "6f943dce",
   "metadata": {},
   "outputs": [
    {
     "name": "stdout",
     "output_type": "stream",
     "text": [
      "Unique values in ticket column: \n",
      "['single' 'savonia' 'season']\n",
      "Unique values in cost column: \n",
      "[3.50e-01 1.20e+00 0.00e+00 3.00e-01 1.00e+00 7.00e-01 1.00e-01 4.00e-01\n",
      " 5.00e-01 1.50e-01 2.00e-01 5.00e-02 6.00e-01 6.50e-01 2.50e-01 1.45e+00\n",
      " 1.15e+00 5.50e-01 7.50e-01 1.00e+02 8.00e-01 4.50e-01 9.50e-01 1.05e+00\n",
      " 1.30e+00 9.00e-01 8.50e-01 2.45e+00 1.75e+00 1.10e+00 1.60e+00 1.25e+00\n",
      " 1.35e+00 2.00e+00 1.50e+00 4.25e+00 3.65e+00 1.55e+00 2.70e+00 2.90e+00\n",
      " 4.35e+00 3.55e+00 1.70e+00 1.65e+00 1.40e+00 3.00e+00 4.10e+00 1.80e+00\n",
      " 1.90e+00 4.45e+00 4.80e+00 4.00e+00 2.15e+00 2.20e+00 4.30e+00 3.70e+00]\n",
      "Unique values in month column: \n",
      "[ 9  5 10  6  8  7  4]\n",
      "Unique values in location_from column: \n",
      "['MICROTEKNIA' 'SATAMA' 'TASAVALLANKATU' 'TORI' 'NEULAMÄKI' 'KEILANKANTA'\n",
      " 'PUIJONLAAKSO' 'KAUPPAKATU' 'KYS' 'PIRTTI']\n",
      "Unique values in location_to column: \n",
      "['PUIJONLAAKSO' 'KEILANKANTA' 'NEULAMÄKI' 'KAUPPAKATU' 'TORI'\n",
      " 'TASAVALLANKATU' 'MICROTEKNIA' 'SATAMA' 'PIRTTI' 'KYS']\n",
      "Unique values in duration column: \n",
      "[ 411. 1411. 1308. ... 4400. 1167.  199.]\n",
      "Unique values in distance column: \n",
      "[ 2150  7130  5420  1180  1120  3280  4470  4490     0  3060  1290  2340\n",
      "  2080  4560  8400  3070   380  1040  -150  1100  3050   950   400  1850\n",
      "   890  1610  6100  5380   570  6490  2900   100  3040  3630  2190  3540\n",
      "  2730   900  6270   930  2530  3250  2860  4450  2390   -20  6540   -30\n",
      "  1400  2440  6060  2280  1950  3100  1480  1830   920   990  2420  6470\n",
      "  1570  1460  2220  4040  5660  6640  1020  3660  2070   -10  2560  6610\n",
      "  2310  1740  2950  3000  1420  6870  2650  2360  1800  2370  1500  1030\n",
      "  1010  4460  4270  6500  2250  3030  8470    10  2710  2130  1840   940\n",
      "  5460  4510  3120  5620  2660  2240  6070  4420  5350  6170  1470   980\n",
      "  6460  3530  7950   210  7190  3090  2610  1380  2570  7410  4400  2510\n",
      "    50   260  1630  2580  1440    20  2180  4600   160  3180  2100   600\n",
      "  1430  4330  3240  5130  4540 10740  4530  5790  2600  2820  2490  2230\n",
      "   390  2350  4500  1300  2980  1820  2060   150  1990  2410  -180  2030\n",
      "  2090  2320  2040  1650  1590  7040   710  1620    30  1640  4700  4590\n",
      "  6530  2880  2260  3440   910  6090  1140    70  3980   -50  3650  2000\n",
      "   450  3620  5290   -60   410  3130  3430   440  4630   670  6480  3770\n",
      "  4370  3740  2540  -880  2630   130  1810  4550  4750  4080  2290  6050\n",
      "  3970  4030  4280  6180  4010  6430   360  4390  3550  4430   110  3520\n",
      "  3560  2680  6720  2990   820  3160  6200  4060  4340  1790  7400  3260\n",
      "  1410  1280   970  1000  4440  1080  3380  3150  2640  3220  1530  4410\n",
      "  2620  2760  3590  2010  2590  2330  7730   230 12200  1450  4360   960\n",
      "  3010  3410  4580  6890  2480  6380  1520  1980  4970 -1770   140    40\n",
      "  3110   340  1900  -270  3340  6660  5700  1910  2520    60  5070  1710\n",
      "  9970  4110   480  3350  6440    80  6730  3140   750  2210  2780  8720\n",
      "  4160  1940   120  1230  2550  5520  4520  6410  5650   300  6770  5120\n",
      "  3870 14240   870  1870  5800  1890  8070  1050  5400  5690  5040  7560\n",
      "  1070  2020  1880  6710  3720  2830  2110  1320  4620  1110    90  -110\n",
      "  4610  4480  7150  6450  1390  4320  3450  7690  8680  2970  1600  3610\n",
      "  6130  4150  3940  3290  1720  3210  2670  6040  1660 17410  4070  2930\n",
      "   350  1150  3800  3360  2740  2170  6080  3080  2050  6820  3020  2840\n",
      "  3750  1330   730  4650  1220  1780  6620  1680  4730  7180  5170  4940\n",
      "  6580  -130  4140  6110  2200  6840  2270  2920  2850  1550  4020  6030\n",
      "  6330  2460  3690  1090   220  6760  7220  5470  6510 11130  2430  3880\n",
      "  -870 10040  5370  3680  7940  7330  2870  6830  4200  3460  5390  1350\n",
      "  2910  6570  4960  1670   330  8940  4100  -240  2470  5760  6880  2960\n",
      "  6360  3840  6150  2690  3900  7500  6400  3200  1060  3510  5200  -210\n",
      "  2140  -220  5900  6810  4660  8150  1250 13650  6560  1490  1970  1130\n",
      "  2500  8600  4840  1160  3670  1190  2380  6420  1860  5740 10220  8260\n",
      "   720  7770 20770  3760   680  5850  5300  6980  3230  3470  5780  7140\n",
      "  4240  1200 14690  6850  5060   460  7240   170  2120   180  2800  6000\n",
      "  1930  4090   240  3500  5810  9650  5870  8570  5410  1960  3710  3730\n",
      "   620  2810  4570  4770  3990  7060  3420  7740  6900   190  2300  1760\n",
      "   830  8170  2750  3400   690  5550 11440  7260  2790  7110   -40  4850\n",
      "  5560  6910  1700  8430  4710  5890  2450  4290  1340  6990  3370  4050\n",
      " 11720  6600  6930  4790  4800  5820  2720  4690 -3380  3570 10420   880\n",
      "  -230   -80  6780  6190  3920 -1440  1210  6960 11200  5770  6970  5450\n",
      "  5250 12650  7200  6590  4640  1510  6790 11880  3310  7360  6940  4350\n",
      "  6390 18720  8640  5830]\n",
      "Unique values in assistance column: \n",
      "[1 0]\n",
      "Unique values in energy_used column: \n",
      "[1.900e+01 5.380e+01 4.300e+01 6.500e+00 1.370e+01 2.120e+01 2.760e+01\n",
      " 1.450e+01 2.540e+01 0.000e+00 2.310e+01 1.560e+01 3.150e+01 1.510e+01\n",
      " 2.460e+01 3.000e+01 1.660e+01 1.400e+00 5.100e+00 2.000e-01 6.900e+00\n",
      " 7.000e+00 1.680e+01 1.910e+01 4.000e+00 2.100e+00 9.300e+00 1.380e+01\n",
      " 2.210e+01 4.770e+01 4.200e+00 4.230e+01 3.400e+01 1.000e+01 2.560e+01\n",
      " 3.620e+01 2.700e+01 2.570e+01 1.590e+01 1.440e+01 3.440e+01 1.040e+01\n",
      " 2.370e+01 3.340e+01 1.570e+01 3.050e+01 2.650e+01 5.010e+01 5.900e+00\n",
      " 2.070e+01 3.970e+01 9.800e+00 1.270e+01 8.400e+00 1.170e+01 3.100e+00\n",
      " 1.630e+01 3.070e+01 6.600e+00 2.290e+01 1.600e+01 1.360e+01 2.670e+01\n",
      " 3.290e+01 5.590e+01 4.960e+01 1.480e+01 2.550e+01 5.050e+01 1.700e+01\n",
      " 1.920e+01 1.640e+01 1.010e+01 2.510e+01 4.470e+01 2.900e+01 1.140e+01\n",
      " 2.380e+01 3.530e+01 7.700e+00 4.900e+00 4.030e+01 2.480e+01 1.330e+01\n",
      " 2.350e+01 3.490e+01 2.000e+01 2.230e+01 3.870e+01 4.000e-01 4.370e+01\n",
      " 1.320e+01 1.530e+01 1.430e+01 3.560e+01 2.200e+01 4.190e+01 1.470e+01\n",
      " 9.900e+00 1.960e+01 1.800e+01 3.710e+01 2.790e+01 5.200e+00 2.010e+01\n",
      " 2.580e+01 4.700e+00 2.820e+01 1.080e+01 2.470e+01 6.100e+01 1.230e+01\n",
      " 2.500e+01 2.590e+01 2.710e+01 7.900e+00 5.390e+01 1.860e+01 2.870e+01\n",
      " 2.660e+01 7.000e-01 7.200e+00 2.800e+00 5.800e+00 1.790e+01 2.180e+01\n",
      " 5.700e+00 1.210e+01 7.400e+00 4.820e+01 3.400e+00 2.270e+01 2.620e+01\n",
      " 7.060e+01 2.130e+01 8.100e+00 2.420e+01 1.740e+01 4.020e+01 2.060e+01\n",
      " 3.980e+01 6.690e+01 2.980e+01 4.560e+01 2.890e+01 4.600e+00 1.500e+01\n",
      " 3.420e+01 9.000e+00 2.690e+01 2.040e+01 2.400e+00 1.290e+01 4.100e+00\n",
      " 2.450e+01 3.300e+00 1.930e+01 1.180e+01 2.680e+01 1.490e+01 3.360e+01\n",
      " 1.200e+01 4.800e+00 1.030e+01 6.700e+00 2.080e+01 6.060e+01 4.240e+01\n",
      " 2.390e+01 1.950e+01 1.160e+01 2.260e+01 1.310e+01 1.800e+00 5.490e+01\n",
      " 1.880e+01 2.720e+01 8.600e+00 1.850e+01 3.900e+00 2.200e+00 2.600e+01\n",
      " 3.550e+01 4.040e+01 4.280e+01 4.810e+01 3.210e+01 2.940e+01 2.020e+01\n",
      " 3.500e+00 2.190e+01 1.350e+01 1.830e+01 2.920e+01 3.650e+01 3.730e+01\n",
      " 1.940e+01 3.920e+01 3.540e+01 2.640e+01 3.080e+01 2.140e+01 8.000e-01\n",
      " 2.970e+01 4.860e+01 1.460e+01 2.360e+01 5.270e+01 3.500e+01 5.470e+01\n",
      " 2.750e+01 4.100e+01 1.420e+01 5.700e+01 3.030e+01 2.610e+01 1.000e+00\n",
      " 7.600e+00 1.690e+01 2.960e+01 5.400e+00 3.060e+01 1.090e+01 2.250e+01\n",
      " 1.240e+01 4.710e+01 1.070e+01 2.030e+01 2.740e+01 1.120e+01 1.000e-01\n",
      " 7.300e+00 4.430e+01 1.600e+00 9.370e+01 4.870e+01 3.140e+01 3.000e-01\n",
      " 1.190e+01 4.360e+01 9.400e+00 6.380e+01 1.150e+01 4.150e+01 1.020e+01\n",
      " 5.040e+01 1.200e+00 3.800e+00 1.550e+01 3.180e+01 1.110e+01 3.570e+01\n",
      " 3.200e+01 8.700e+00 1.540e+01 2.320e+01 3.680e+01 3.270e+01 8.100e+01\n",
      " 4.970e+01 5.570e+01 2.950e+01 4.420e+01 2.630e+01 9.100e+00 1.250e+01\n",
      " 2.240e+01 5.000e-01 4.440e+01 4.200e+01 3.830e+01 1.810e+01 1.670e+01\n",
      " 1.780e+01 4.610e+01 4.350e+01 2.900e+00 2.830e+01 1.890e+01 4.110e+01\n",
      " 3.910e+01 1.406e+02 2.280e+01 3.250e+01 3.640e+01 1.500e+00 4.800e+01\n",
      " 8.500e+00 2.340e+01 1.300e+00 1.050e+01 1.900e+00 4.260e+01 3.040e+01\n",
      " 3.170e+01 2.400e+01 2.490e+01 1.970e+01 5.970e+01 8.000e+00 3.800e+01\n",
      " 3.600e+00 2.530e+01 4.330e+01 3.990e+01 3.670e+01 2.520e+01 5.500e+00\n",
      " 1.280e+01 1.720e+01 3.280e+01 2.150e+01 1.060e+01 4.270e+01 5.150e+01\n",
      " 1.650e+01 3.940e+01 1.770e+01 4.000e+01 7.180e+01 3.160e+01 5.600e+00\n",
      " 3.600e+01 4.570e+01 4.160e+01 4.600e+01 3.470e+01 9.600e+00 3.240e+01\n",
      " 2.410e+01 3.410e+01 1.820e+01 1.400e+01 1.449e+02 2.800e+01 3.590e+01\n",
      " 2.860e+01 2.160e+01 7.100e+00 3.700e+00 3.520e+01 6.300e+00 2.840e+01\n",
      " 3.610e+01 1.300e+01 4.500e+01 3.220e+01 3.780e+01 4.220e+01 3.320e+01\n",
      " 4.170e+01 2.930e+01 6.400e+00 6.200e+00 3.760e+01 1.340e+01 4.590e+01\n",
      " 4.500e+00 4.400e+01 2.300e+01 5.930e+01 2.430e+01 5.190e+01 5.740e+01\n",
      " 2.220e+01 3.010e+01 4.790e+01 8.900e+00 3.090e+01 5.000e+00 9.200e+00\n",
      " 1.130e+01 2.300e+00 2.330e+01 4.780e+01 3.000e+00 3.200e+00 6.190e+01\n",
      " 6.740e+01 6.000e-01 6.770e+01 6.100e+00 9.500e+00 2.100e+01 3.450e+01\n",
      " 6.870e+01 2.780e+01 3.390e+01 3.850e+01 2.990e+01 5.810e+01 2.770e+01\n",
      " 6.800e+00 4.740e+01 5.100e+01 3.810e+01 3.510e+01 1.620e+01 4.090e+01\n",
      " 2.700e+00 6.530e+01 3.370e+01 2.110e+01 4.900e+01 1.390e+01 3.110e+01\n",
      " 5.840e+01 3.690e+01 1.750e+01 2.810e+01 4.180e+01 5.200e+01 1.520e+01\n",
      " 2.000e+00 7.800e+00 3.310e+01 1.990e+01 6.000e+00 5.260e+01 6.010e+01\n",
      " 8.800e+01 3.480e+01 2.500e+00 1.220e+01 1.580e+01 2.090e+01 4.080e+01\n",
      " 9.700e+00 3.380e+01 1.730e+01 7.500e+00 6.590e+01 6.280e+01 3.720e+01\n",
      " 1.410e+01 2.850e+01 2.170e+01 5.460e+01 1.610e+01 4.730e+01 3.330e+01\n",
      " 5.420e+01 1.242e+02 5.430e+01 3.100e+01 1.760e+01 4.890e+01 4.630e+01\n",
      " 9.130e+01 1.980e+01 3.890e+01 5.080e+01 5.630e+01 3.130e+01 6.030e+01\n",
      " 2.050e+01 4.050e+01 1.870e+01 9.000e-01 4.930e+01 1.840e+01 5.900e+01\n",
      " 4.540e+01 3.460e+01 6.550e+01 5.300e+00 3.770e+01 7.100e+01 2.730e+01\n",
      " 3.230e+01 4.680e+01 6.780e+01 4.010e+01 4.760e+01 4.070e+01 6.890e+01\n",
      " 4.750e+01 4.380e+01 5.000e+01 1.015e+02 2.600e+00 8.300e+00 5.180e+01\n",
      " 4.060e+01 9.830e+01 5.600e+01 5.350e+01 3.700e+01 4.940e+01 5.090e+01\n",
      " 5.520e+01 3.740e+01 6.390e+01 1.100e+01 1.260e+01 1.334e+02 3.430e+01]\n",
      "Unique values in energy_collected column: \n",
      "[ 2.7 15.3  9.9  2.1  1.2  0.   0.6 10.2 12.   6.6  3.6  5.4 21.3  9.3\n",
      "  8.4  0.3  3.9  0.9  6.9  8.1  6.   1.5  3.   3.3  4.8  8.7  4.5 14.7\n",
      "  9.6 14.1 15.6 10.8  7.5  7.2  5.7 11.4 16.8  5.1 18.3  6.3  2.4 16.5\n",
      " 11.7 10.5  4.2  7.8 24.9 14.4  1.8 31.8 12.6 15.9  9.  19.8 17.7 18.9\n",
      " 11.1 13.8 17.4 19.2 13.2 22.5 18.6 16.2 12.9 23.1 12.3 21.6 32.7 20.4\n",
      " 30.  19.5 20.1 18.  56.4 22.2 17.1 27.  23.4 23.7 30.3 24.  25.5 13.5\n",
      " 22.8 15.  24.6 35.1 28.5 28.2 30.6 20.7 52.2 21.  24.3 27.9 32.4 41.1\n",
      " 29.4 55.5 27.3]\n"
     ]
    }
   ],
   "source": [
    "for column in bikes_raw.columns:\n",
    "    print(\"Unique values in \" + str(column) + \" column: \" )\n",
    "    print(bikes_raw[column].unique())"
   ]
  },
  {
   "cell_type": "markdown",
   "id": "13460c0b",
   "metadata": {},
   "source": [
    "Based on the values above, some of the columns, namely 'ticket', 'month', 'location_from', 'location_to', and 'assistance' columns should have a categorical datatype, as they take a finite amount of values. 'assistance' variable can also be interpreted as a boolean variable, as it only takes the values 0, 1."
   ]
  },
  {
   "cell_type": "code",
   "execution_count": 8,
   "id": "91742923",
   "metadata": {},
   "outputs": [],
   "source": [
    "cont_col = [\"cost\", \"duration\", \"distance\", \"energy_used\", \"energy_collected\"] \n",
    "cat_col = [\"ticket\", \"month\", \"location_from\", \"location_to\"]\n",
    "bool_col = [\"assistance\"]"
   ]
  },
  {
   "cell_type": "code",
   "execution_count": 9,
   "id": "4b092927",
   "metadata": {},
   "outputs": [],
   "source": [
    "bikes_raw[cat_col] = bikes_raw[cat_col].astype('category')\n",
    "bikes_raw[bool_col] = bikes_raw[bool_col].astype('bool')"
   ]
  },
  {
   "cell_type": "code",
   "execution_count": 10,
   "id": "884e66bb",
   "metadata": {},
   "outputs": [
    {
     "name": "stdout",
     "output_type": "stream",
     "text": [
      "<class 'pandas.core.frame.DataFrame'>\n",
      "RangeIndex: 1774 entries, 0 to 1773\n",
      "Data columns (total 10 columns):\n",
      " #   Column            Non-Null Count  Dtype   \n",
      "---  ------            --------------  -----   \n",
      " 0   ticket            1774 non-null   category\n",
      " 1   cost              1774 non-null   float64 \n",
      " 2   month             1774 non-null   category\n",
      " 3   location_from     1774 non-null   category\n",
      " 4   location_to       1774 non-null   category\n",
      " 5   duration          1774 non-null   float64 \n",
      " 6   distance          1774 non-null   int64   \n",
      " 7   assistance        1774 non-null   bool    \n",
      " 8   energy_used       1774 non-null   float64 \n",
      " 9   energy_collected  1774 non-null   float64 \n",
      "dtypes: bool(1), category(4), float64(4), int64(1)\n",
      "memory usage: 79.3 KB\n"
     ]
    }
   ],
   "source": [
    "bikes_raw.info()"
   ]
  },
  {
   "cell_type": "code",
   "execution_count": 11,
   "id": "f7b4afea",
   "metadata": {},
   "outputs": [
    {
     "data": {
      "text/plain": [
       "[4, 5, 6, 7, 8, 9, 10]\n",
       "Categories (7, int64): [4, 5, 6, 7, 8, 9, 10]"
      ]
     },
     "execution_count": 11,
     "metadata": {},
     "output_type": "execute_result"
    }
   ],
   "source": [
    "bikes_raw['month'].sort_values().unique()"
   ]
  },
  {
   "cell_type": "markdown",
   "id": "460b9c02",
   "metadata": {},
   "source": [
    "It's also interesting to see that the month column only contains months from 4-10."
   ]
  },
  {
   "cell_type": "markdown",
   "id": "b70006f1",
   "metadata": {},
   "source": [
    "It also seems that there are no spelling mistakes, nor any missing values. The categorical values seem to be complete and need no correction."
   ]
  },
  {
   "cell_type": "markdown",
   "id": "8adbe135",
   "metadata": {},
   "source": [
    "## Negative distance"
   ]
  },
  {
   "cell_type": "code",
   "execution_count": 12,
   "id": "976b2b1a",
   "metadata": {
    "scrolled": true
   },
   "outputs": [
    {
     "data": {
      "text/html": [
       "<div>\n",
       "<style scoped>\n",
       "    .dataframe tbody tr th:only-of-type {\n",
       "        vertical-align: middle;\n",
       "    }\n",
       "\n",
       "    .dataframe tbody tr th {\n",
       "        vertical-align: top;\n",
       "    }\n",
       "\n",
       "    .dataframe thead th {\n",
       "        text-align: right;\n",
       "    }\n",
       "</style>\n",
       "<table border=\"1\" class=\"dataframe\">\n",
       "  <thead>\n",
       "    <tr style=\"text-align: right;\">\n",
       "      <th></th>\n",
       "      <th>ticket</th>\n",
       "      <th>cost</th>\n",
       "      <th>month</th>\n",
       "      <th>location_from</th>\n",
       "      <th>location_to</th>\n",
       "      <th>duration</th>\n",
       "      <th>distance</th>\n",
       "      <th>assistance</th>\n",
       "      <th>energy_used</th>\n",
       "      <th>energy_collected</th>\n",
       "    </tr>\n",
       "  </thead>\n",
       "  <tbody>\n",
       "    <tr>\n",
       "      <th>23</th>\n",
       "      <td>single</td>\n",
       "      <td>0.15</td>\n",
       "      <td>5</td>\n",
       "      <td>TASAVALLANKATU</td>\n",
       "      <td>TASAVALLANKATU</td>\n",
       "      <td>138.0</td>\n",
       "      <td>-150</td>\n",
       "      <td>True</td>\n",
       "      <td>0.2</td>\n",
       "      <td>0.0</td>\n",
       "    </tr>\n",
       "    <tr>\n",
       "      <th>60</th>\n",
       "      <td>season</td>\n",
       "      <td>0.00</td>\n",
       "      <td>8</td>\n",
       "      <td>MICROTEKNIA</td>\n",
       "      <td>MICROTEKNIA</td>\n",
       "      <td>41.0</td>\n",
       "      <td>-20</td>\n",
       "      <td>True</td>\n",
       "      <td>0.0</td>\n",
       "      <td>0.0</td>\n",
       "    </tr>\n",
       "    <tr>\n",
       "      <th>62</th>\n",
       "      <td>single</td>\n",
       "      <td>0.10</td>\n",
       "      <td>8</td>\n",
       "      <td>KEILANKANTA</td>\n",
       "      <td>KEILANKANTA</td>\n",
       "      <td>73.0</td>\n",
       "      <td>-30</td>\n",
       "      <td>True</td>\n",
       "      <td>0.0</td>\n",
       "      <td>0.0</td>\n",
       "    </tr>\n",
       "    <tr>\n",
       "      <th>96</th>\n",
       "      <td>single</td>\n",
       "      <td>0.05</td>\n",
       "      <td>5</td>\n",
       "      <td>TORI</td>\n",
       "      <td>TORI</td>\n",
       "      <td>48.0</td>\n",
       "      <td>-10</td>\n",
       "      <td>True</td>\n",
       "      <td>0.0</td>\n",
       "      <td>0.0</td>\n",
       "    </tr>\n",
       "    <tr>\n",
       "      <th>125</th>\n",
       "      <td>savonia</td>\n",
       "      <td>0.00</td>\n",
       "      <td>10</td>\n",
       "      <td>KAUPPAKATU</td>\n",
       "      <td>KAUPPAKATU</td>\n",
       "      <td>48.0</td>\n",
       "      <td>-20</td>\n",
       "      <td>True</td>\n",
       "      <td>0.0</td>\n",
       "      <td>0.0</td>\n",
       "    </tr>\n",
       "    <tr>\n",
       "      <th>242</th>\n",
       "      <td>savonia</td>\n",
       "      <td>0.00</td>\n",
       "      <td>10</td>\n",
       "      <td>TORI</td>\n",
       "      <td>KAUPPAKATU</td>\n",
       "      <td>207.0</td>\n",
       "      <td>-180</td>\n",
       "      <td>True</td>\n",
       "      <td>3.3</td>\n",
       "      <td>0.0</td>\n",
       "    </tr>\n",
       "    <tr>\n",
       "      <th>284</th>\n",
       "      <td>single</td>\n",
       "      <td>0.15</td>\n",
       "      <td>4</td>\n",
       "      <td>KAUPPAKATU</td>\n",
       "      <td>KAUPPAKATU</td>\n",
       "      <td>178.0</td>\n",
       "      <td>-50</td>\n",
       "      <td>True</td>\n",
       "      <td>0.2</td>\n",
       "      <td>0.0</td>\n",
       "    </tr>\n",
       "    <tr>\n",
       "      <th>295</th>\n",
       "      <td>season</td>\n",
       "      <td>0.00</td>\n",
       "      <td>8</td>\n",
       "      <td>KAUPPAKATU</td>\n",
       "      <td>KAUPPAKATU</td>\n",
       "      <td>79.0</td>\n",
       "      <td>-60</td>\n",
       "      <td>True</td>\n",
       "      <td>0.0</td>\n",
       "      <td>0.0</td>\n",
       "    </tr>\n",
       "    <tr>\n",
       "      <th>318</th>\n",
       "      <td>single</td>\n",
       "      <td>0.45</td>\n",
       "      <td>8</td>\n",
       "      <td>KYS</td>\n",
       "      <td>PUIJONLAAKSO</td>\n",
       "      <td>480.0</td>\n",
       "      <td>-880</td>\n",
       "      <td>True</td>\n",
       "      <td>0.0</td>\n",
       "      <td>0.0</td>\n",
       "    </tr>\n",
       "    <tr>\n",
       "      <th>322</th>\n",
       "      <td>savonia</td>\n",
       "      <td>0.00</td>\n",
       "      <td>10</td>\n",
       "      <td>KYS</td>\n",
       "      <td>KYS</td>\n",
       "      <td>70.0</td>\n",
       "      <td>-10</td>\n",
       "      <td>True</td>\n",
       "      <td>0.0</td>\n",
       "      <td>0.0</td>\n",
       "    </tr>\n",
       "    <tr>\n",
       "      <th>384</th>\n",
       "      <td>season</td>\n",
       "      <td>0.00</td>\n",
       "      <td>8</td>\n",
       "      <td>PUIJONLAAKSO</td>\n",
       "      <td>PUIJONLAAKSO</td>\n",
       "      <td>221.0</td>\n",
       "      <td>-10</td>\n",
       "      <td>True</td>\n",
       "      <td>1.0</td>\n",
       "      <td>0.0</td>\n",
       "    </tr>\n",
       "    <tr>\n",
       "      <th>410</th>\n",
       "      <td>single</td>\n",
       "      <td>0.05</td>\n",
       "      <td>8</td>\n",
       "      <td>TORI</td>\n",
       "      <td>TORI</td>\n",
       "      <td>39.0</td>\n",
       "      <td>-10</td>\n",
       "      <td>True</td>\n",
       "      <td>0.0</td>\n",
       "      <td>0.0</td>\n",
       "    </tr>\n",
       "    <tr>\n",
       "      <th>420</th>\n",
       "      <td>season</td>\n",
       "      <td>0.00</td>\n",
       "      <td>10</td>\n",
       "      <td>TORI</td>\n",
       "      <td>TORI</td>\n",
       "      <td>75.0</td>\n",
       "      <td>-20</td>\n",
       "      <td>True</td>\n",
       "      <td>0.1</td>\n",
       "      <td>0.0</td>\n",
       "    </tr>\n",
       "    <tr>\n",
       "      <th>446</th>\n",
       "      <td>single</td>\n",
       "      <td>0.10</td>\n",
       "      <td>5</td>\n",
       "      <td>PUIJONLAAKSO</td>\n",
       "      <td>PUIJONLAAKSO</td>\n",
       "      <td>109.0</td>\n",
       "      <td>-30</td>\n",
       "      <td>True</td>\n",
       "      <td>0.4</td>\n",
       "      <td>0.0</td>\n",
       "    </tr>\n",
       "    <tr>\n",
       "      <th>462</th>\n",
       "      <td>single</td>\n",
       "      <td>0.50</td>\n",
       "      <td>8</td>\n",
       "      <td>PUIJONLAAKSO</td>\n",
       "      <td>TORI</td>\n",
       "      <td>570.0</td>\n",
       "      <td>-1770</td>\n",
       "      <td>True</td>\n",
       "      <td>0.0</td>\n",
       "      <td>0.0</td>\n",
       "    </tr>\n",
       "    <tr>\n",
       "      <th>474</th>\n",
       "      <td>single</td>\n",
       "      <td>0.30</td>\n",
       "      <td>8</td>\n",
       "      <td>KAUPPAKATU</td>\n",
       "      <td>TORI</td>\n",
       "      <td>313.0</td>\n",
       "      <td>-270</td>\n",
       "      <td>True</td>\n",
       "      <td>0.0</td>\n",
       "      <td>0.0</td>\n",
       "    </tr>\n",
       "    <tr>\n",
       "      <th>494</th>\n",
       "      <td>savonia</td>\n",
       "      <td>0.00</td>\n",
       "      <td>10</td>\n",
       "      <td>TORI</td>\n",
       "      <td>KAUPPAKATU</td>\n",
       "      <td>207.0</td>\n",
       "      <td>-180</td>\n",
       "      <td>True</td>\n",
       "      <td>3.3</td>\n",
       "      <td>0.0</td>\n",
       "    </tr>\n",
       "    <tr>\n",
       "      <th>520</th>\n",
       "      <td>single</td>\n",
       "      <td>0.10</td>\n",
       "      <td>4</td>\n",
       "      <td>PUIJONLAAKSO</td>\n",
       "      <td>PUIJONLAAKSO</td>\n",
       "      <td>62.0</td>\n",
       "      <td>-10</td>\n",
       "      <td>True</td>\n",
       "      <td>0.5</td>\n",
       "      <td>0.0</td>\n",
       "    </tr>\n",
       "    <tr>\n",
       "      <th>576</th>\n",
       "      <td>single</td>\n",
       "      <td>0.50</td>\n",
       "      <td>4</td>\n",
       "      <td>KYS</td>\n",
       "      <td>KAUPPAKATU</td>\n",
       "      <td>558.0</td>\n",
       "      <td>-1770</td>\n",
       "      <td>False</td>\n",
       "      <td>0.0</td>\n",
       "      <td>0.0</td>\n",
       "    </tr>\n",
       "    <tr>\n",
       "      <th>589</th>\n",
       "      <td>single</td>\n",
       "      <td>0.05</td>\n",
       "      <td>10</td>\n",
       "      <td>TORI</td>\n",
       "      <td>TORI</td>\n",
       "      <td>51.0</td>\n",
       "      <td>-20</td>\n",
       "      <td>True</td>\n",
       "      <td>0.0</td>\n",
       "      <td>0.0</td>\n",
       "    </tr>\n",
       "    <tr>\n",
       "      <th>639</th>\n",
       "      <td>single</td>\n",
       "      <td>0.15</td>\n",
       "      <td>8</td>\n",
       "      <td>KYS</td>\n",
       "      <td>KYS</td>\n",
       "      <td>133.0</td>\n",
       "      <td>-110</td>\n",
       "      <td>True</td>\n",
       "      <td>0.0</td>\n",
       "      <td>0.0</td>\n",
       "    </tr>\n",
       "    <tr>\n",
       "      <th>738</th>\n",
       "      <td>single</td>\n",
       "      <td>0.10</td>\n",
       "      <td>10</td>\n",
       "      <td>TORI</td>\n",
       "      <td>TORI</td>\n",
       "      <td>77.0</td>\n",
       "      <td>-60</td>\n",
       "      <td>True</td>\n",
       "      <td>0.1</td>\n",
       "      <td>0.0</td>\n",
       "    </tr>\n",
       "    <tr>\n",
       "      <th>808</th>\n",
       "      <td>single</td>\n",
       "      <td>0.20</td>\n",
       "      <td>8</td>\n",
       "      <td>KEILANKANTA</td>\n",
       "      <td>KEILANKANTA</td>\n",
       "      <td>227.0</td>\n",
       "      <td>-130</td>\n",
       "      <td>True</td>\n",
       "      <td>0.0</td>\n",
       "      <td>0.0</td>\n",
       "    </tr>\n",
       "    <tr>\n",
       "      <th>872</th>\n",
       "      <td>single</td>\n",
       "      <td>0.40</td>\n",
       "      <td>5</td>\n",
       "      <td>TORI</td>\n",
       "      <td>SATAMA</td>\n",
       "      <td>453.0</td>\n",
       "      <td>-870</td>\n",
       "      <td>True</td>\n",
       "      <td>0.0</td>\n",
       "      <td>0.0</td>\n",
       "    </tr>\n",
       "    <tr>\n",
       "      <th>977</th>\n",
       "      <td>savonia</td>\n",
       "      <td>0.00</td>\n",
       "      <td>10</td>\n",
       "      <td>TORI</td>\n",
       "      <td>TORI</td>\n",
       "      <td>263.0</td>\n",
       "      <td>-240</td>\n",
       "      <td>True</td>\n",
       "      <td>0.2</td>\n",
       "      <td>0.0</td>\n",
       "    </tr>\n",
       "    <tr>\n",
       "      <th>1002</th>\n",
       "      <td>single</td>\n",
       "      <td>0.15</td>\n",
       "      <td>5</td>\n",
       "      <td>TASAVALLANKATU</td>\n",
       "      <td>TASAVALLANKATU</td>\n",
       "      <td>130.0</td>\n",
       "      <td>-50</td>\n",
       "      <td>True</td>\n",
       "      <td>0.2</td>\n",
       "      <td>0.0</td>\n",
       "    </tr>\n",
       "    <tr>\n",
       "      <th>1046</th>\n",
       "      <td>season</td>\n",
       "      <td>0.00</td>\n",
       "      <td>10</td>\n",
       "      <td>TORI</td>\n",
       "      <td>KAUPPAKATU</td>\n",
       "      <td>216.0</td>\n",
       "      <td>-210</td>\n",
       "      <td>True</td>\n",
       "      <td>0.7</td>\n",
       "      <td>0.0</td>\n",
       "    </tr>\n",
       "    <tr>\n",
       "      <th>1061</th>\n",
       "      <td>season</td>\n",
       "      <td>0.00</td>\n",
       "      <td>5</td>\n",
       "      <td>TORI</td>\n",
       "      <td>KAUPPAKATU</td>\n",
       "      <td>393.0</td>\n",
       "      <td>-220</td>\n",
       "      <td>True</td>\n",
       "      <td>0.0</td>\n",
       "      <td>0.0</td>\n",
       "    </tr>\n",
       "    <tr>\n",
       "      <th>1076</th>\n",
       "      <td>season</td>\n",
       "      <td>0.00</td>\n",
       "      <td>8</td>\n",
       "      <td>PUIJONLAAKSO</td>\n",
       "      <td>PUIJONLAAKSO</td>\n",
       "      <td>93.0</td>\n",
       "      <td>-50</td>\n",
       "      <td>True</td>\n",
       "      <td>0.1</td>\n",
       "      <td>0.0</td>\n",
       "    </tr>\n",
       "    <tr>\n",
       "      <th>1095</th>\n",
       "      <td>season</td>\n",
       "      <td>0.00</td>\n",
       "      <td>8</td>\n",
       "      <td>PUIJONLAAKSO</td>\n",
       "      <td>PUIJONLAAKSO</td>\n",
       "      <td>105.0</td>\n",
       "      <td>-30</td>\n",
       "      <td>True</td>\n",
       "      <td>0.4</td>\n",
       "      <td>0.0</td>\n",
       "    </tr>\n",
       "    <tr>\n",
       "      <th>1145</th>\n",
       "      <td>single</td>\n",
       "      <td>0.25</td>\n",
       "      <td>5</td>\n",
       "      <td>KAUPPAKATU</td>\n",
       "      <td>TORI</td>\n",
       "      <td>250.0</td>\n",
       "      <td>-240</td>\n",
       "      <td>True</td>\n",
       "      <td>0.0</td>\n",
       "      <td>0.0</td>\n",
       "    </tr>\n",
       "    <tr>\n",
       "      <th>1259</th>\n",
       "      <td>single</td>\n",
       "      <td>0.10</td>\n",
       "      <td>8</td>\n",
       "      <td>SATAMA</td>\n",
       "      <td>SATAMA</td>\n",
       "      <td>66.0</td>\n",
       "      <td>-30</td>\n",
       "      <td>True</td>\n",
       "      <td>0.0</td>\n",
       "      <td>0.0</td>\n",
       "    </tr>\n",
       "    <tr>\n",
       "      <th>1342</th>\n",
       "      <td>single</td>\n",
       "      <td>0.15</td>\n",
       "      <td>4</td>\n",
       "      <td>KAUPPAKATU</td>\n",
       "      <td>KAUPPAKATU</td>\n",
       "      <td>178.0</td>\n",
       "      <td>-50</td>\n",
       "      <td>True</td>\n",
       "      <td>0.2</td>\n",
       "      <td>0.0</td>\n",
       "    </tr>\n",
       "    <tr>\n",
       "      <th>1446</th>\n",
       "      <td>season</td>\n",
       "      <td>0.00</td>\n",
       "      <td>10</td>\n",
       "      <td>TORI</td>\n",
       "      <td>TORI</td>\n",
       "      <td>96.0</td>\n",
       "      <td>-40</td>\n",
       "      <td>True</td>\n",
       "      <td>1.9</td>\n",
       "      <td>0.3</td>\n",
       "    </tr>\n",
       "    <tr>\n",
       "      <th>1563</th>\n",
       "      <td>season</td>\n",
       "      <td>0.00</td>\n",
       "      <td>8</td>\n",
       "      <td>KEILANKANTA</td>\n",
       "      <td>TASAVALLANKATU</td>\n",
       "      <td>993.0</td>\n",
       "      <td>-3380</td>\n",
       "      <td>True</td>\n",
       "      <td>0.0</td>\n",
       "      <td>0.0</td>\n",
       "    </tr>\n",
       "    <tr>\n",
       "      <th>1607</th>\n",
       "      <td>season</td>\n",
       "      <td>0.00</td>\n",
       "      <td>8</td>\n",
       "      <td>TORI</td>\n",
       "      <td>TORI</td>\n",
       "      <td>245.0</td>\n",
       "      <td>-230</td>\n",
       "      <td>True</td>\n",
       "      <td>0.0</td>\n",
       "      <td>0.0</td>\n",
       "    </tr>\n",
       "    <tr>\n",
       "      <th>1617</th>\n",
       "      <td>single</td>\n",
       "      <td>0.20</td>\n",
       "      <td>10</td>\n",
       "      <td>KYS</td>\n",
       "      <td>KYS</td>\n",
       "      <td>237.0</td>\n",
       "      <td>-80</td>\n",
       "      <td>True</td>\n",
       "      <td>0.0</td>\n",
       "      <td>0.0</td>\n",
       "    </tr>\n",
       "    <tr>\n",
       "      <th>1636</th>\n",
       "      <td>single</td>\n",
       "      <td>0.45</td>\n",
       "      <td>8</td>\n",
       "      <td>TASAVALLANKATU</td>\n",
       "      <td>KAUPPAKATU</td>\n",
       "      <td>525.0</td>\n",
       "      <td>-1440</td>\n",
       "      <td>True</td>\n",
       "      <td>0.0</td>\n",
       "      <td>0.0</td>\n",
       "    </tr>\n",
       "    <tr>\n",
       "      <th>1680</th>\n",
       "      <td>season</td>\n",
       "      <td>0.00</td>\n",
       "      <td>10</td>\n",
       "      <td>TORI</td>\n",
       "      <td>TORI</td>\n",
       "      <td>115.0</td>\n",
       "      <td>-20</td>\n",
       "      <td>True</td>\n",
       "      <td>0.0</td>\n",
       "      <td>0.0</td>\n",
       "    </tr>\n",
       "  </tbody>\n",
       "</table>\n",
       "</div>"
      ],
      "text/plain": [
       "       ticket  cost month   location_from     location_to  duration  distance  \\\n",
       "23     single  0.15     5  TASAVALLANKATU  TASAVALLANKATU     138.0      -150   \n",
       "60     season  0.00     8     MICROTEKNIA     MICROTEKNIA      41.0       -20   \n",
       "62     single  0.10     8     KEILANKANTA     KEILANKANTA      73.0       -30   \n",
       "96     single  0.05     5            TORI            TORI      48.0       -10   \n",
       "125   savonia  0.00    10      KAUPPAKATU      KAUPPAKATU      48.0       -20   \n",
       "242   savonia  0.00    10            TORI      KAUPPAKATU     207.0      -180   \n",
       "284    single  0.15     4      KAUPPAKATU      KAUPPAKATU     178.0       -50   \n",
       "295    season  0.00     8      KAUPPAKATU      KAUPPAKATU      79.0       -60   \n",
       "318    single  0.45     8             KYS    PUIJONLAAKSO     480.0      -880   \n",
       "322   savonia  0.00    10             KYS             KYS      70.0       -10   \n",
       "384    season  0.00     8    PUIJONLAAKSO    PUIJONLAAKSO     221.0       -10   \n",
       "410    single  0.05     8            TORI            TORI      39.0       -10   \n",
       "420    season  0.00    10            TORI            TORI      75.0       -20   \n",
       "446    single  0.10     5    PUIJONLAAKSO    PUIJONLAAKSO     109.0       -30   \n",
       "462    single  0.50     8    PUIJONLAAKSO            TORI     570.0     -1770   \n",
       "474    single  0.30     8      KAUPPAKATU            TORI     313.0      -270   \n",
       "494   savonia  0.00    10            TORI      KAUPPAKATU     207.0      -180   \n",
       "520    single  0.10     4    PUIJONLAAKSO    PUIJONLAAKSO      62.0       -10   \n",
       "576    single  0.50     4             KYS      KAUPPAKATU     558.0     -1770   \n",
       "589    single  0.05    10            TORI            TORI      51.0       -20   \n",
       "639    single  0.15     8             KYS             KYS     133.0      -110   \n",
       "738    single  0.10    10            TORI            TORI      77.0       -60   \n",
       "808    single  0.20     8     KEILANKANTA     KEILANKANTA     227.0      -130   \n",
       "872    single  0.40     5            TORI          SATAMA     453.0      -870   \n",
       "977   savonia  0.00    10            TORI            TORI     263.0      -240   \n",
       "1002   single  0.15     5  TASAVALLANKATU  TASAVALLANKATU     130.0       -50   \n",
       "1046   season  0.00    10            TORI      KAUPPAKATU     216.0      -210   \n",
       "1061   season  0.00     5            TORI      KAUPPAKATU     393.0      -220   \n",
       "1076   season  0.00     8    PUIJONLAAKSO    PUIJONLAAKSO      93.0       -50   \n",
       "1095   season  0.00     8    PUIJONLAAKSO    PUIJONLAAKSO     105.0       -30   \n",
       "1145   single  0.25     5      KAUPPAKATU            TORI     250.0      -240   \n",
       "1259   single  0.10     8          SATAMA          SATAMA      66.0       -30   \n",
       "1342   single  0.15     4      KAUPPAKATU      KAUPPAKATU     178.0       -50   \n",
       "1446   season  0.00    10            TORI            TORI      96.0       -40   \n",
       "1563   season  0.00     8     KEILANKANTA  TASAVALLANKATU     993.0     -3380   \n",
       "1607   season  0.00     8            TORI            TORI     245.0      -230   \n",
       "1617   single  0.20    10             KYS             KYS     237.0       -80   \n",
       "1636   single  0.45     8  TASAVALLANKATU      KAUPPAKATU     525.0     -1440   \n",
       "1680   season  0.00    10            TORI            TORI     115.0       -20   \n",
       "\n",
       "      assistance  energy_used  energy_collected  \n",
       "23          True          0.2               0.0  \n",
       "60          True          0.0               0.0  \n",
       "62          True          0.0               0.0  \n",
       "96          True          0.0               0.0  \n",
       "125         True          0.0               0.0  \n",
       "242         True          3.3               0.0  \n",
       "284         True          0.2               0.0  \n",
       "295         True          0.0               0.0  \n",
       "318         True          0.0               0.0  \n",
       "322         True          0.0               0.0  \n",
       "384         True          1.0               0.0  \n",
       "410         True          0.0               0.0  \n",
       "420         True          0.1               0.0  \n",
       "446         True          0.4               0.0  \n",
       "462         True          0.0               0.0  \n",
       "474         True          0.0               0.0  \n",
       "494         True          3.3               0.0  \n",
       "520         True          0.5               0.0  \n",
       "576        False          0.0               0.0  \n",
       "589         True          0.0               0.0  \n",
       "639         True          0.0               0.0  \n",
       "738         True          0.1               0.0  \n",
       "808         True          0.0               0.0  \n",
       "872         True          0.0               0.0  \n",
       "977         True          0.2               0.0  \n",
       "1002        True          0.2               0.0  \n",
       "1046        True          0.7               0.0  \n",
       "1061        True          0.0               0.0  \n",
       "1076        True          0.1               0.0  \n",
       "1095        True          0.4               0.0  \n",
       "1145        True          0.0               0.0  \n",
       "1259        True          0.0               0.0  \n",
       "1342        True          0.2               0.0  \n",
       "1446        True          1.9               0.3  \n",
       "1563        True          0.0               0.0  \n",
       "1607        True          0.0               0.0  \n",
       "1617        True          0.0               0.0  \n",
       "1636        True          0.0               0.0  \n",
       "1680        True          0.0               0.0  "
      ]
     },
     "execution_count": 12,
     "metadata": {},
     "output_type": "execute_result"
    }
   ],
   "source": [
    "bikes_raw[bikes_raw['distance']<0]"
   ]
  },
  {
   "cell_type": "code",
   "execution_count": 13,
   "id": "0f7a8276",
   "metadata": {},
   "outputs": [
    {
     "data": {
      "text/plain": [
       "39"
      ]
     },
     "execution_count": 13,
     "metadata": {},
     "output_type": "execute_result"
    }
   ],
   "source": [
    "len(bikes_raw[bikes_raw['distance']<0])"
   ]
  },
  {
   "cell_type": "markdown",
   "id": "1142b9e4",
   "metadata": {},
   "source": [
    "There seem to be many rows where the distance is a negative number, which is clearly incorrect. It could be assumed that the negative sign is just a bug, and the values themselves without the negative sings could be kept. However, I have no information supporting this assumption, and looking at the other variables in these rows, in almost all cases, electric assistance was used with these bikes, yet no energy was used. As these rows seem to contain unreliable data, it is best to discard them (there are not many)."
   ]
  },
  {
   "cell_type": "code",
   "execution_count": 14,
   "id": "f5a74802",
   "metadata": {},
   "outputs": [],
   "source": [
    "bikes_raw = bikes_raw[bikes_raw['distance']>=0]"
   ]
  },
  {
   "cell_type": "code",
   "execution_count": 15,
   "id": "96f2da0d",
   "metadata": {
    "scrolled": true
   },
   "outputs": [
    {
     "data": {
      "text/plain": [
       "1735"
      ]
     },
     "execution_count": 15,
     "metadata": {},
     "output_type": "execute_result"
    }
   ],
   "source": [
    "len(bikes_raw)"
   ]
  },
  {
   "cell_type": "markdown",
   "id": "49934a56",
   "metadata": {},
   "source": [
    "## Duplicate rows"
   ]
  },
  {
   "cell_type": "markdown",
   "id": "db6b788d",
   "metadata": {},
   "source": [
    "I have also found that some rows are duplicates. In fact, there are 10 of these rows."
   ]
  },
  {
   "cell_type": "code",
   "execution_count": 16,
   "id": "936976aa",
   "metadata": {},
   "outputs": [
    {
     "data": {
      "text/plain": [
       "10"
      ]
     },
     "execution_count": 16,
     "metadata": {},
     "output_type": "execute_result"
    }
   ],
   "source": [
    "sum(bikes_raw.duplicated())"
   ]
  },
  {
   "cell_type": "code",
   "execution_count": 17,
   "id": "eec04a01",
   "metadata": {},
   "outputs": [
    {
     "data": {
      "text/plain": [
       "1725"
      ]
     },
     "execution_count": 17,
     "metadata": {},
     "output_type": "execute_result"
    }
   ],
   "source": [
    "bikes_raw = bikes_raw[~bikes_raw.duplicated()]\n",
    "len(bikes_raw)"
   ]
  },
  {
   "cell_type": "markdown",
   "id": "1ee19521",
   "metadata": {},
   "source": [
    "## Data visualization"
   ]
  },
  {
   "cell_type": "code",
   "execution_count": 18,
   "id": "4ef67d99",
   "metadata": {
    "scrolled": false
   },
   "outputs": [
    {
     "data": {
      "text/html": [
       "<div>\n",
       "<style scoped>\n",
       "    .dataframe tbody tr th:only-of-type {\n",
       "        vertical-align: middle;\n",
       "    }\n",
       "\n",
       "    .dataframe tbody tr th {\n",
       "        vertical-align: top;\n",
       "    }\n",
       "\n",
       "    .dataframe thead th {\n",
       "        text-align: right;\n",
       "    }\n",
       "</style>\n",
       "<table border=\"1\" class=\"dataframe\">\n",
       "  <thead>\n",
       "    <tr style=\"text-align: right;\">\n",
       "      <th></th>\n",
       "      <th>ticket</th>\n",
       "      <th>cost</th>\n",
       "      <th>month</th>\n",
       "      <th>location_from</th>\n",
       "      <th>location_to</th>\n",
       "      <th>duration</th>\n",
       "      <th>distance</th>\n",
       "      <th>assistance</th>\n",
       "      <th>energy_used</th>\n",
       "      <th>energy_collected</th>\n",
       "    </tr>\n",
       "  </thead>\n",
       "  <tbody>\n",
       "    <tr>\n",
       "      <th>100</th>\n",
       "      <td>savonia</td>\n",
       "      <td>100.0</td>\n",
       "      <td>9</td>\n",
       "      <td>NEULAMÄKI</td>\n",
       "      <td>MICROTEKNIA</td>\n",
       "      <td>25614.0</td>\n",
       "      <td>2310</td>\n",
       "      <td>False</td>\n",
       "      <td>0.0</td>\n",
       "      <td>3.6</td>\n",
       "    </tr>\n",
       "  </tbody>\n",
       "</table>\n",
       "</div>"
      ],
      "text/plain": [
       "      ticket   cost month location_from  location_to  duration  distance  \\\n",
       "100  savonia  100.0     9     NEULAMÄKI  MICROTEKNIA   25614.0      2310   \n",
       "\n",
       "     assistance  energy_used  energy_collected  \n",
       "100       False          0.0               3.6  "
      ]
     },
     "execution_count": 18,
     "metadata": {},
     "output_type": "execute_result"
    }
   ],
   "source": [
    "bikes_raw[bikes_raw['duration'] == bikes_raw['duration'].max()]"
   ]
  },
  {
   "cell_type": "code",
   "execution_count": 19,
   "id": "b1c39baf",
   "metadata": {},
   "outputs": [
    {
     "data": {
      "image/png": "[encoded data removed]",
      "text/plain": [
       "<Figure size 2160x1080 with 5 Axes>"
      ]
     },
     "metadata": {
      "needs_background": "light"
     },
     "output_type": "display_data"
    }
   ],
   "source": [
    "fig, axes = plt.subplots(nrows=1, ncols=5, figsize=(30, 15))\n",
    "\n",
    "i = 0\n",
    "for col in cont_col:\n",
    "    bikes_raw[col].plot.box(ax=axes[i])\n",
    "    i = i+1"
   ]
  },
  {
   "cell_type": "code",
   "execution_count": 20,
   "id": "c4886eef",
   "metadata": {},
   "outputs": [
    {
     "data": {
      "image/png": "[encoded data removed]",
      "text/plain": [
       "<Figure size 1080x1080 with 5 Axes>"
      ]
     },
     "metadata": {
      "needs_background": "light"
     },
     "output_type": "display_data"
    }
   ],
   "source": [
    "fig, axes = plt.subplots(nrows=5, ncols=1, figsize=(15, 15))\n",
    "\n",
    "i = 0\n",
    "for col in cont_col:\n",
    "    bikes_raw[col].plot(kind='density', ax=axes[i])\n",
    "    i = i+1\n"
   ]
  },
  {
   "cell_type": "code",
   "execution_count": 21,
   "id": "337d4ec1",
   "metadata": {},
   "outputs": [
    {
     "name": "stdout",
     "output_type": "stream",
     "text": [
      "Data is not normally distributed\n",
      "Data is not normally distributed\n",
      "Data is not normally distributed\n",
      "Data is not normally distributed\n",
      "Data is not normally distributed\n"
     ]
    }
   ],
   "source": [
    "for col in bikes_raw[cont_col].columns:\n",
    "    stat, p = stats.shapiro(bikes_raw[col])\n",
    "    if p > 0.05:\n",
    "        print(\"Data may be normally distributed\")\n",
    "    else:\n",
    "        print(\"Data is not normally distributed\")"
   ]
  },
  {
   "cell_type": "markdown",
   "id": "e8e86e7a",
   "metadata": {},
   "source": [
    "The distribution of our continous variables is fairly skewed, with most values being near zero (or at similar low values), with a lot of extreme cases. "
   ]
  },
  {
   "cell_type": "code",
   "execution_count": 22,
   "id": "3cc19935",
   "metadata": {},
   "outputs": [],
   "source": [
    "bikes_raw.reset_index(drop=True, inplace=True)"
   ]
  },
  {
   "cell_type": "markdown",
   "id": "77f80862",
   "metadata": {},
   "source": [
    "## Null distance"
   ]
  },
  {
   "cell_type": "markdown",
   "id": "cdaf524c",
   "metadata": {},
   "source": [
    "\"The data may therefore contain irrelevant records, such as customers only trying out how bikes can be rented with our Android app and cancelling the transaction without actually riding the bike.\" This can be interpreted that the rows where the distance travelled is 0 should be discarded according to the instructions, as the bikes weren't actually used. This makes sense, as most of the variables don't hold any valuable information if the bike was not used. "
   ]
  },
  {
   "cell_type": "code",
   "execution_count": 23,
   "id": "b45d233b",
   "metadata": {
    "scrolled": true
   },
   "outputs": [
    {
     "data": {
      "text/html": [
       "<div>\n",
       "<style scoped>\n",
       "    .dataframe tbody tr th:only-of-type {\n",
       "        vertical-align: middle;\n",
       "    }\n",
       "\n",
       "    .dataframe tbody tr th {\n",
       "        vertical-align: top;\n",
       "    }\n",
       "\n",
       "    .dataframe thead th {\n",
       "        text-align: right;\n",
       "    }\n",
       "</style>\n",
       "<table border=\"1\" class=\"dataframe\">\n",
       "  <thead>\n",
       "    <tr style=\"text-align: right;\">\n",
       "      <th></th>\n",
       "      <th>ticket</th>\n",
       "      <th>cost</th>\n",
       "      <th>month</th>\n",
       "      <th>location_from</th>\n",
       "      <th>location_to</th>\n",
       "      <th>duration</th>\n",
       "      <th>distance</th>\n",
       "      <th>assistance</th>\n",
       "      <th>energy_used</th>\n",
       "      <th>energy_collected</th>\n",
       "    </tr>\n",
       "  </thead>\n",
       "  <tbody>\n",
       "    <tr>\n",
       "      <th>9</th>\n",
       "      <td>savonia</td>\n",
       "      <td>0.00</td>\n",
       "      <td>9</td>\n",
       "      <td>TORI</td>\n",
       "      <td>TORI</td>\n",
       "      <td>5.0</td>\n",
       "      <td>0</td>\n",
       "      <td>False</td>\n",
       "      <td>0.0</td>\n",
       "      <td>0.0</td>\n",
       "    </tr>\n",
       "    <tr>\n",
       "      <th>13</th>\n",
       "      <td>single</td>\n",
       "      <td>0.10</td>\n",
       "      <td>5</td>\n",
       "      <td>TORI</td>\n",
       "      <td>TORI</td>\n",
       "      <td>64.0</td>\n",
       "      <td>0</td>\n",
       "      <td>True</td>\n",
       "      <td>0.0</td>\n",
       "      <td>0.0</td>\n",
       "    </tr>\n",
       "    <tr>\n",
       "      <th>14</th>\n",
       "      <td>single</td>\n",
       "      <td>0.10</td>\n",
       "      <td>5</td>\n",
       "      <td>KEILANKANTA</td>\n",
       "      <td>KEILANKANTA</td>\n",
       "      <td>86.0</td>\n",
       "      <td>0</td>\n",
       "      <td>True</td>\n",
       "      <td>0.0</td>\n",
       "      <td>0.0</td>\n",
       "    </tr>\n",
       "    <tr>\n",
       "      <th>18</th>\n",
       "      <td>season</td>\n",
       "      <td>0.00</td>\n",
       "      <td>6</td>\n",
       "      <td>TORI</td>\n",
       "      <td>TORI</td>\n",
       "      <td>233.0</td>\n",
       "      <td>0</td>\n",
       "      <td>True</td>\n",
       "      <td>0.0</td>\n",
       "      <td>0.0</td>\n",
       "    </tr>\n",
       "    <tr>\n",
       "      <th>21</th>\n",
       "      <td>season</td>\n",
       "      <td>0.00</td>\n",
       "      <td>6</td>\n",
       "      <td>TASAVALLANKATU</td>\n",
       "      <td>TASAVALLANKATU</td>\n",
       "      <td>38.0</td>\n",
       "      <td>0</td>\n",
       "      <td>True</td>\n",
       "      <td>0.0</td>\n",
       "      <td>0.0</td>\n",
       "    </tr>\n",
       "    <tr>\n",
       "      <th>...</th>\n",
       "      <td>...</td>\n",
       "      <td>...</td>\n",
       "      <td>...</td>\n",
       "      <td>...</td>\n",
       "      <td>...</td>\n",
       "      <td>...</td>\n",
       "      <td>...</td>\n",
       "      <td>...</td>\n",
       "      <td>...</td>\n",
       "      <td>...</td>\n",
       "    </tr>\n",
       "    <tr>\n",
       "      <th>1674</th>\n",
       "      <td>single</td>\n",
       "      <td>0.05</td>\n",
       "      <td>5</td>\n",
       "      <td>TORI</td>\n",
       "      <td>TORI</td>\n",
       "      <td>59.0</td>\n",
       "      <td>0</td>\n",
       "      <td>True</td>\n",
       "      <td>0.0</td>\n",
       "      <td>0.0</td>\n",
       "    </tr>\n",
       "    <tr>\n",
       "      <th>1690</th>\n",
       "      <td>season</td>\n",
       "      <td>0.00</td>\n",
       "      <td>7</td>\n",
       "      <td>TORI</td>\n",
       "      <td>TORI</td>\n",
       "      <td>8.0</td>\n",
       "      <td>0</td>\n",
       "      <td>True</td>\n",
       "      <td>0.0</td>\n",
       "      <td>0.0</td>\n",
       "    </tr>\n",
       "    <tr>\n",
       "      <th>1694</th>\n",
       "      <td>season</td>\n",
       "      <td>0.00</td>\n",
       "      <td>8</td>\n",
       "      <td>MICROTEKNIA</td>\n",
       "      <td>MICROTEKNIA</td>\n",
       "      <td>79.0</td>\n",
       "      <td>0</td>\n",
       "      <td>True</td>\n",
       "      <td>0.0</td>\n",
       "      <td>0.0</td>\n",
       "    </tr>\n",
       "    <tr>\n",
       "      <th>1703</th>\n",
       "      <td>single</td>\n",
       "      <td>0.10</td>\n",
       "      <td>7</td>\n",
       "      <td>KYS</td>\n",
       "      <td>KYS</td>\n",
       "      <td>109.0</td>\n",
       "      <td>0</td>\n",
       "      <td>False</td>\n",
       "      <td>0.0</td>\n",
       "      <td>0.0</td>\n",
       "    </tr>\n",
       "    <tr>\n",
       "      <th>1722</th>\n",
       "      <td>season</td>\n",
       "      <td>0.00</td>\n",
       "      <td>7</td>\n",
       "      <td>TORI</td>\n",
       "      <td>TORI</td>\n",
       "      <td>61.0</td>\n",
       "      <td>0</td>\n",
       "      <td>True</td>\n",
       "      <td>0.0</td>\n",
       "      <td>0.0</td>\n",
       "    </tr>\n",
       "  </tbody>\n",
       "</table>\n",
       "<p>253 rows × 10 columns</p>\n",
       "</div>"
      ],
      "text/plain": [
       "       ticket  cost month   location_from     location_to  duration  distance  \\\n",
       "9     savonia  0.00     9            TORI            TORI       5.0         0   \n",
       "13     single  0.10     5            TORI            TORI      64.0         0   \n",
       "14     single  0.10     5     KEILANKANTA     KEILANKANTA      86.0         0   \n",
       "18     season  0.00     6            TORI            TORI     233.0         0   \n",
       "21     season  0.00     6  TASAVALLANKATU  TASAVALLANKATU      38.0         0   \n",
       "...       ...   ...   ...             ...             ...       ...       ...   \n",
       "1674   single  0.05     5            TORI            TORI      59.0         0   \n",
       "1690   season  0.00     7            TORI            TORI       8.0         0   \n",
       "1694   season  0.00     8     MICROTEKNIA     MICROTEKNIA      79.0         0   \n",
       "1703   single  0.10     7             KYS             KYS     109.0         0   \n",
       "1722   season  0.00     7            TORI            TORI      61.0         0   \n",
       "\n",
       "      assistance  energy_used  energy_collected  \n",
       "9          False          0.0               0.0  \n",
       "13          True          0.0               0.0  \n",
       "14          True          0.0               0.0  \n",
       "18          True          0.0               0.0  \n",
       "21          True          0.0               0.0  \n",
       "...          ...          ...               ...  \n",
       "1674        True          0.0               0.0  \n",
       "1690        True          0.0               0.0  \n",
       "1694        True          0.0               0.0  \n",
       "1703       False          0.0               0.0  \n",
       "1722        True          0.0               0.0  \n",
       "\n",
       "[253 rows x 10 columns]"
      ]
     },
     "execution_count": 23,
     "metadata": {},
     "output_type": "execute_result"
    }
   ],
   "source": [
    "bikes_0_dist = bikes_raw[bikes_raw['distance'] == 0]\n",
    "bikes_0_dist"
   ]
  },
  {
   "cell_type": "markdown",
   "id": "423a953e",
   "metadata": {},
   "source": [
    "However, as there are many rows containing 0 distance, some minimal information could still be gained using the \"month\" variable, for example, a pattern could be seen as to which months users are more likely to try out the app."
   ]
  },
  {
   "cell_type": "code",
   "execution_count": 24,
   "id": "dc59d36f",
   "metadata": {
    "scrolled": true
   },
   "outputs": [],
   "source": [
    "trials_per_month = bikes_0_dist.groupby('month')['ticket'].count()"
   ]
  },
  {
   "cell_type": "code",
   "execution_count": 25,
   "id": "73bae78b",
   "metadata": {
    "scrolled": true
   },
   "outputs": [
    {
     "data": {
      "text/plain": [
       "<AxesSubplot:xlabel='month'>"
      ]
     },
     "execution_count": 25,
     "metadata": {},
     "output_type": "execute_result"
    },
    {
     "data": {
      "image/png": "[encoded data removed]",
      "text/plain": [
       "<Figure size 432x288 with 1 Axes>"
      ]
     },
     "metadata": {
      "needs_background": "light"
     },
     "output_type": "display_data"
    }
   ],
   "source": [
    "trials_per_month.plot.bar()"
   ]
  },
  {
   "cell_type": "code",
   "execution_count": 26,
   "id": "a15a7497",
   "metadata": {},
   "outputs": [
    {
     "data": {
      "text/html": [
       "<div>\n",
       "<style scoped>\n",
       "    .dataframe tbody tr th:only-of-type {\n",
       "        vertical-align: middle;\n",
       "    }\n",
       "\n",
       "    .dataframe tbody tr th {\n",
       "        vertical-align: top;\n",
       "    }\n",
       "\n",
       "    .dataframe thead th {\n",
       "        text-align: right;\n",
       "    }\n",
       "</style>\n",
       "<table border=\"1\" class=\"dataframe\">\n",
       "  <thead>\n",
       "    <tr style=\"text-align: right;\">\n",
       "      <th></th>\n",
       "      <th>ticket</th>\n",
       "      <th>cost</th>\n",
       "      <th>month</th>\n",
       "      <th>location_from</th>\n",
       "      <th>location_to</th>\n",
       "      <th>duration</th>\n",
       "      <th>distance</th>\n",
       "      <th>assistance</th>\n",
       "      <th>energy_used</th>\n",
       "      <th>energy_collected</th>\n",
       "    </tr>\n",
       "  </thead>\n",
       "  <tbody>\n",
       "    <tr>\n",
       "      <th>0</th>\n",
       "      <td>single</td>\n",
       "      <td>0.35</td>\n",
       "      <td>9</td>\n",
       "      <td>MICROTEKNIA</td>\n",
       "      <td>PUIJONLAAKSO</td>\n",
       "      <td>411.0</td>\n",
       "      <td>2150</td>\n",
       "      <td>True</td>\n",
       "      <td>19.0</td>\n",
       "      <td>2.7</td>\n",
       "    </tr>\n",
       "    <tr>\n",
       "      <th>1</th>\n",
       "      <td>single</td>\n",
       "      <td>1.20</td>\n",
       "      <td>5</td>\n",
       "      <td>SATAMA</td>\n",
       "      <td>KEILANKANTA</td>\n",
       "      <td>1411.0</td>\n",
       "      <td>7130</td>\n",
       "      <td>True</td>\n",
       "      <td>53.8</td>\n",
       "      <td>15.3</td>\n",
       "    </tr>\n",
       "    <tr>\n",
       "      <th>2</th>\n",
       "      <td>savonia</td>\n",
       "      <td>0.00</td>\n",
       "      <td>9</td>\n",
       "      <td>TASAVALLANKATU</td>\n",
       "      <td>NEULAMÄKI</td>\n",
       "      <td>1308.0</td>\n",
       "      <td>5420</td>\n",
       "      <td>True</td>\n",
       "      <td>43.0</td>\n",
       "      <td>9.9</td>\n",
       "    </tr>\n",
       "    <tr>\n",
       "      <th>3</th>\n",
       "      <td>savonia</td>\n",
       "      <td>0.00</td>\n",
       "      <td>10</td>\n",
       "      <td>TORI</td>\n",
       "      <td>KAUPPAKATU</td>\n",
       "      <td>1036.0</td>\n",
       "      <td>1180</td>\n",
       "      <td>True</td>\n",
       "      <td>6.5</td>\n",
       "      <td>2.1</td>\n",
       "    </tr>\n",
       "    <tr>\n",
       "      <th>4</th>\n",
       "      <td>single</td>\n",
       "      <td>0.30</td>\n",
       "      <td>9</td>\n",
       "      <td>TORI</td>\n",
       "      <td>TORI</td>\n",
       "      <td>319.0</td>\n",
       "      <td>1120</td>\n",
       "      <td>True</td>\n",
       "      <td>13.7</td>\n",
       "      <td>1.2</td>\n",
       "    </tr>\n",
       "    <tr>\n",
       "      <th>...</th>\n",
       "      <td>...</td>\n",
       "      <td>...</td>\n",
       "      <td>...</td>\n",
       "      <td>...</td>\n",
       "      <td>...</td>\n",
       "      <td>...</td>\n",
       "      <td>...</td>\n",
       "      <td>...</td>\n",
       "      <td>...</td>\n",
       "      <td>...</td>\n",
       "    </tr>\n",
       "    <tr>\n",
       "      <th>1719</th>\n",
       "      <td>single</td>\n",
       "      <td>1.00</td>\n",
       "      <td>7</td>\n",
       "      <td>KEILANKANTA</td>\n",
       "      <td>KAUPPAKATU</td>\n",
       "      <td>1167.0</td>\n",
       "      <td>6070</td>\n",
       "      <td>True</td>\n",
       "      <td>34.3</td>\n",
       "      <td>3.0</td>\n",
       "    </tr>\n",
       "    <tr>\n",
       "      <th>1720</th>\n",
       "      <td>savonia</td>\n",
       "      <td>0.00</td>\n",
       "      <td>10</td>\n",
       "      <td>KAUPPAKATU</td>\n",
       "      <td>TORI</td>\n",
       "      <td>836.0</td>\n",
       "      <td>960</td>\n",
       "      <td>True</td>\n",
       "      <td>8.0</td>\n",
       "      <td>2.7</td>\n",
       "    </tr>\n",
       "    <tr>\n",
       "      <th>1721</th>\n",
       "      <td>single</td>\n",
       "      <td>0.20</td>\n",
       "      <td>7</td>\n",
       "      <td>TORI</td>\n",
       "      <td>SATAMA</td>\n",
       "      <td>199.0</td>\n",
       "      <td>930</td>\n",
       "      <td>True</td>\n",
       "      <td>3.7</td>\n",
       "      <td>3.6</td>\n",
       "    </tr>\n",
       "    <tr>\n",
       "      <th>1723</th>\n",
       "      <td>savonia</td>\n",
       "      <td>0.00</td>\n",
       "      <td>9</td>\n",
       "      <td>MICROTEKNIA</td>\n",
       "      <td>PUIJONLAAKSO</td>\n",
       "      <td>610.0</td>\n",
       "      <td>2460</td>\n",
       "      <td>True</td>\n",
       "      <td>36.5</td>\n",
       "      <td>6.9</td>\n",
       "    </tr>\n",
       "    <tr>\n",
       "      <th>1724</th>\n",
       "      <td>season</td>\n",
       "      <td>0.00</td>\n",
       "      <td>8</td>\n",
       "      <td>PUIJONLAAKSO</td>\n",
       "      <td>KAUPPAKATU</td>\n",
       "      <td>478.0</td>\n",
       "      <td>2250</td>\n",
       "      <td>True</td>\n",
       "      <td>8.1</td>\n",
       "      <td>13.8</td>\n",
       "    </tr>\n",
       "  </tbody>\n",
       "</table>\n",
       "<p>1472 rows × 10 columns</p>\n",
       "</div>"
      ],
      "text/plain": [
       "       ticket  cost month   location_from   location_to  duration  distance  \\\n",
       "0      single  0.35     9     MICROTEKNIA  PUIJONLAAKSO     411.0      2150   \n",
       "1      single  1.20     5          SATAMA   KEILANKANTA    1411.0      7130   \n",
       "2     savonia  0.00     9  TASAVALLANKATU     NEULAMÄKI    1308.0      5420   \n",
       "3     savonia  0.00    10            TORI    KAUPPAKATU    1036.0      1180   \n",
       "4      single  0.30     9            TORI          TORI     319.0      1120   \n",
       "...       ...   ...   ...             ...           ...       ...       ...   \n",
       "1719   single  1.00     7     KEILANKANTA    KAUPPAKATU    1167.0      6070   \n",
       "1720  savonia  0.00    10      KAUPPAKATU          TORI     836.0       960   \n",
       "1721   single  0.20     7            TORI        SATAMA     199.0       930   \n",
       "1723  savonia  0.00     9     MICROTEKNIA  PUIJONLAAKSO     610.0      2460   \n",
       "1724   season  0.00     8    PUIJONLAAKSO    KAUPPAKATU     478.0      2250   \n",
       "\n",
       "      assistance  energy_used  energy_collected  \n",
       "0           True         19.0               2.7  \n",
       "1           True         53.8              15.3  \n",
       "2           True         43.0               9.9  \n",
       "3           True          6.5               2.1  \n",
       "4           True         13.7               1.2  \n",
       "...          ...          ...               ...  \n",
       "1719        True         34.3               3.0  \n",
       "1720        True          8.0               2.7  \n",
       "1721        True          3.7               3.6  \n",
       "1723        True         36.5               6.9  \n",
       "1724        True          8.1              13.8  \n",
       "\n",
       "[1472 rows x 10 columns]"
      ]
     },
     "execution_count": 26,
     "metadata": {},
     "output_type": "execute_result"
    }
   ],
   "source": [
    "bikes_raw = bikes_raw.drop(bikes_0_dist.index, axis=0)\n",
    "bikes_raw"
   ]
  },
  {
   "cell_type": "code",
   "execution_count": 27,
   "id": "bcde7a7b",
   "metadata": {},
   "outputs": [],
   "source": [
    "bikes_raw.reset_index(drop=True, inplace=True)"
   ]
  },
  {
   "cell_type": "markdown",
   "id": "230d727b",
   "metadata": {},
   "source": [
    "## Electric assistance"
   ]
  },
  {
   "cell_type": "markdown",
   "id": "20c68541",
   "metadata": {},
   "source": [
    "Another aspect worth considering is that when electric assistance is used, one would also expect energy to be used."
   ]
  },
  {
   "cell_type": "code",
   "execution_count": 28,
   "id": "646b5c77",
   "metadata": {
    "scrolled": true
   },
   "outputs": [
    {
     "data": {
      "text/html": [
       "<div>\n",
       "<style scoped>\n",
       "    .dataframe tbody tr th:only-of-type {\n",
       "        vertical-align: middle;\n",
       "    }\n",
       "\n",
       "    .dataframe tbody tr th {\n",
       "        vertical-align: top;\n",
       "    }\n",
       "\n",
       "    .dataframe thead th {\n",
       "        text-align: right;\n",
       "    }\n",
       "</style>\n",
       "<table border=\"1\" class=\"dataframe\">\n",
       "  <thead>\n",
       "    <tr style=\"text-align: right;\">\n",
       "      <th></th>\n",
       "      <th>ticket</th>\n",
       "      <th>cost</th>\n",
       "      <th>month</th>\n",
       "      <th>location_from</th>\n",
       "      <th>location_to</th>\n",
       "      <th>duration</th>\n",
       "      <th>distance</th>\n",
       "      <th>assistance</th>\n",
       "      <th>energy_used</th>\n",
       "      <th>energy_collected</th>\n",
       "    </tr>\n",
       "  </thead>\n",
       "  <tbody>\n",
       "    <tr>\n",
       "      <th>155</th>\n",
       "      <td>single</td>\n",
       "      <td>0.10</td>\n",
       "      <td>7</td>\n",
       "      <td>NEULAMÄKI</td>\n",
       "      <td>NEULAMÄKI</td>\n",
       "      <td>101.0</td>\n",
       "      <td>10</td>\n",
       "      <td>True</td>\n",
       "      <td>0.0</td>\n",
       "      <td>0.0</td>\n",
       "    </tr>\n",
       "    <tr>\n",
       "      <th>209</th>\n",
       "      <td>single</td>\n",
       "      <td>0.10</td>\n",
       "      <td>7</td>\n",
       "      <td>PUIJONLAAKSO</td>\n",
       "      <td>PUIJONLAAKSO</td>\n",
       "      <td>66.0</td>\n",
       "      <td>30</td>\n",
       "      <td>True</td>\n",
       "      <td>0.0</td>\n",
       "      <td>0.0</td>\n",
       "    </tr>\n",
       "    <tr>\n",
       "      <th>259</th>\n",
       "      <td>savonia</td>\n",
       "      <td>0.00</td>\n",
       "      <td>9</td>\n",
       "      <td>TORI</td>\n",
       "      <td>TORI</td>\n",
       "      <td>112.0</td>\n",
       "      <td>130</td>\n",
       "      <td>True</td>\n",
       "      <td>0.0</td>\n",
       "      <td>0.0</td>\n",
       "    </tr>\n",
       "    <tr>\n",
       "      <th>306</th>\n",
       "      <td>single</td>\n",
       "      <td>0.05</td>\n",
       "      <td>7</td>\n",
       "      <td>TORI</td>\n",
       "      <td>TORI</td>\n",
       "      <td>57.0</td>\n",
       "      <td>10</td>\n",
       "      <td>True</td>\n",
       "      <td>0.0</td>\n",
       "      <td>0.0</td>\n",
       "    </tr>\n",
       "    <tr>\n",
       "      <th>415</th>\n",
       "      <td>single</td>\n",
       "      <td>0.05</td>\n",
       "      <td>6</td>\n",
       "      <td>SATAMA</td>\n",
       "      <td>SATAMA</td>\n",
       "      <td>59.0</td>\n",
       "      <td>80</td>\n",
       "      <td>True</td>\n",
       "      <td>0.0</td>\n",
       "      <td>0.0</td>\n",
       "    </tr>\n",
       "    <tr>\n",
       "      <th>774</th>\n",
       "      <td>season</td>\n",
       "      <td>0.00</td>\n",
       "      <td>6</td>\n",
       "      <td>TASAVALLANKATU</td>\n",
       "      <td>TASAVALLANKATU</td>\n",
       "      <td>67.0</td>\n",
       "      <td>10</td>\n",
       "      <td>True</td>\n",
       "      <td>0.0</td>\n",
       "      <td>0.0</td>\n",
       "    </tr>\n",
       "    <tr>\n",
       "      <th>787</th>\n",
       "      <td>single</td>\n",
       "      <td>1.05</td>\n",
       "      <td>6</td>\n",
       "      <td>TORI</td>\n",
       "      <td>PUIJONLAAKSO</td>\n",
       "      <td>1214.0</td>\n",
       "      <td>10</td>\n",
       "      <td>True</td>\n",
       "      <td>0.0</td>\n",
       "      <td>0.0</td>\n",
       "    </tr>\n",
       "    <tr>\n",
       "      <th>846</th>\n",
       "      <td>season</td>\n",
       "      <td>0.00</td>\n",
       "      <td>9</td>\n",
       "      <td>KEILANKANTA</td>\n",
       "      <td>KEILANKANTA</td>\n",
       "      <td>74.0</td>\n",
       "      <td>10</td>\n",
       "      <td>True</td>\n",
       "      <td>0.0</td>\n",
       "      <td>0.0</td>\n",
       "    </tr>\n",
       "    <tr>\n",
       "      <th>864</th>\n",
       "      <td>season</td>\n",
       "      <td>0.00</td>\n",
       "      <td>6</td>\n",
       "      <td>TORI</td>\n",
       "      <td>TORI</td>\n",
       "      <td>197.0</td>\n",
       "      <td>60</td>\n",
       "      <td>True</td>\n",
       "      <td>0.0</td>\n",
       "      <td>0.0</td>\n",
       "    </tr>\n",
       "    <tr>\n",
       "      <th>907</th>\n",
       "      <td>single</td>\n",
       "      <td>1.20</td>\n",
       "      <td>9</td>\n",
       "      <td>KEILANKANTA</td>\n",
       "      <td>TASAVALLANKATU</td>\n",
       "      <td>1408.0</td>\n",
       "      <td>4400</td>\n",
       "      <td>True</td>\n",
       "      <td>0.0</td>\n",
       "      <td>0.0</td>\n",
       "    </tr>\n",
       "    <tr>\n",
       "      <th>1262</th>\n",
       "      <td>single</td>\n",
       "      <td>0.10</td>\n",
       "      <td>8</td>\n",
       "      <td>KAUPPAKATU</td>\n",
       "      <td>KAUPPAKATU</td>\n",
       "      <td>91.0</td>\n",
       "      <td>20</td>\n",
       "      <td>True</td>\n",
       "      <td>0.0</td>\n",
       "      <td>0.0</td>\n",
       "    </tr>\n",
       "    <tr>\n",
       "      <th>1413</th>\n",
       "      <td>single</td>\n",
       "      <td>0.55</td>\n",
       "      <td>4</td>\n",
       "      <td>TASAVALLANKATU</td>\n",
       "      <td>KAUPPAKATU</td>\n",
       "      <td>633.0</td>\n",
       "      <td>1610</td>\n",
       "      <td>True</td>\n",
       "      <td>0.0</td>\n",
       "      <td>3.3</td>\n",
       "    </tr>\n",
       "    <tr>\n",
       "      <th>1441</th>\n",
       "      <td>single</td>\n",
       "      <td>0.10</td>\n",
       "      <td>6</td>\n",
       "      <td>TASAVALLANKATU</td>\n",
       "      <td>TASAVALLANKATU</td>\n",
       "      <td>84.0</td>\n",
       "      <td>50</td>\n",
       "      <td>True</td>\n",
       "      <td>0.0</td>\n",
       "      <td>0.0</td>\n",
       "    </tr>\n",
       "    <tr>\n",
       "      <th>1447</th>\n",
       "      <td>season</td>\n",
       "      <td>0.00</td>\n",
       "      <td>6</td>\n",
       "      <td>NEULAMÄKI</td>\n",
       "      <td>NEULAMÄKI</td>\n",
       "      <td>111.0</td>\n",
       "      <td>10</td>\n",
       "      <td>True</td>\n",
       "      <td>0.0</td>\n",
       "      <td>0.0</td>\n",
       "    </tr>\n",
       "    <tr>\n",
       "      <th>1452</th>\n",
       "      <td>season</td>\n",
       "      <td>0.00</td>\n",
       "      <td>8</td>\n",
       "      <td>TORI</td>\n",
       "      <td>TORI</td>\n",
       "      <td>113.0</td>\n",
       "      <td>210</td>\n",
       "      <td>True</td>\n",
       "      <td>0.0</td>\n",
       "      <td>0.3</td>\n",
       "    </tr>\n",
       "  </tbody>\n",
       "</table>\n",
       "</div>"
      ],
      "text/plain": [
       "       ticket  cost month   location_from     location_to  duration  distance  \\\n",
       "155    single  0.10     7       NEULAMÄKI       NEULAMÄKI     101.0        10   \n",
       "209    single  0.10     7    PUIJONLAAKSO    PUIJONLAAKSO      66.0        30   \n",
       "259   savonia  0.00     9            TORI            TORI     112.0       130   \n",
       "306    single  0.05     7            TORI            TORI      57.0        10   \n",
       "415    single  0.05     6          SATAMA          SATAMA      59.0        80   \n",
       "774    season  0.00     6  TASAVALLANKATU  TASAVALLANKATU      67.0        10   \n",
       "787    single  1.05     6            TORI    PUIJONLAAKSO    1214.0        10   \n",
       "846    season  0.00     9     KEILANKANTA     KEILANKANTA      74.0        10   \n",
       "864    season  0.00     6            TORI            TORI     197.0        60   \n",
       "907    single  1.20     9     KEILANKANTA  TASAVALLANKATU    1408.0      4400   \n",
       "1262   single  0.10     8      KAUPPAKATU      KAUPPAKATU      91.0        20   \n",
       "1413   single  0.55     4  TASAVALLANKATU      KAUPPAKATU     633.0      1610   \n",
       "1441   single  0.10     6  TASAVALLANKATU  TASAVALLANKATU      84.0        50   \n",
       "1447   season  0.00     6       NEULAMÄKI       NEULAMÄKI     111.0        10   \n",
       "1452   season  0.00     8            TORI            TORI     113.0       210   \n",
       "\n",
       "      assistance  energy_used  energy_collected  \n",
       "155         True          0.0               0.0  \n",
       "209         True          0.0               0.0  \n",
       "259         True          0.0               0.0  \n",
       "306         True          0.0               0.0  \n",
       "415         True          0.0               0.0  \n",
       "774         True          0.0               0.0  \n",
       "787         True          0.0               0.0  \n",
       "846         True          0.0               0.0  \n",
       "864         True          0.0               0.0  \n",
       "907         True          0.0               0.0  \n",
       "1262        True          0.0               0.0  \n",
       "1413        True          0.0               3.3  \n",
       "1441        True          0.0               0.0  \n",
       "1447        True          0.0               0.0  \n",
       "1452        True          0.0               0.3  "
      ]
     },
     "execution_count": 28,
     "metadata": {},
     "output_type": "execute_result"
    }
   ],
   "source": [
    "bikes_raw[ (bikes_raw[\"assistance\"] == True) & (bikes_raw[\"energy_used\"] == 0) ]"
   ]
  },
  {
   "cell_type": "markdown",
   "id": "c33e58b8",
   "metadata": {},
   "source": [
    "However, without more context, it is hard to tell whether these are invalid rows or not. Most of these trips had very short durations, and for the ones with longer durations, an explanation could be that perhaps they were all downhill trips. As I do not have enough information to discard these rows, I chose to keep them."
   ]
  },
  {
   "cell_type": "code",
   "execution_count": 29,
   "id": "9e4d2915",
   "metadata": {},
   "outputs": [
    {
     "data": {
      "text/html": [
       "<div>\n",
       "<style scoped>\n",
       "    .dataframe tbody tr th:only-of-type {\n",
       "        vertical-align: middle;\n",
       "    }\n",
       "\n",
       "    .dataframe tbody tr th {\n",
       "        vertical-align: top;\n",
       "    }\n",
       "\n",
       "    .dataframe thead th {\n",
       "        text-align: right;\n",
       "    }\n",
       "</style>\n",
       "<table border=\"1\" class=\"dataframe\">\n",
       "  <thead>\n",
       "    <tr style=\"text-align: right;\">\n",
       "      <th></th>\n",
       "      <th>ticket</th>\n",
       "      <th>cost</th>\n",
       "      <th>month</th>\n",
       "      <th>location_from</th>\n",
       "      <th>location_to</th>\n",
       "      <th>duration</th>\n",
       "      <th>distance</th>\n",
       "      <th>assistance</th>\n",
       "      <th>energy_used</th>\n",
       "      <th>energy_collected</th>\n",
       "    </tr>\n",
       "  </thead>\n",
       "  <tbody>\n",
       "    <tr>\n",
       "      <th>188</th>\n",
       "      <td>single</td>\n",
       "      <td>0.10</td>\n",
       "      <td>7</td>\n",
       "      <td>TASAVALLANKATU</td>\n",
       "      <td>TASAVALLANKATU</td>\n",
       "      <td>61.0</td>\n",
       "      <td>1300</td>\n",
       "      <td>False</td>\n",
       "      <td>9.0</td>\n",
       "      <td>11.1</td>\n",
       "    </tr>\n",
       "    <tr>\n",
       "      <th>500</th>\n",
       "      <td>season</td>\n",
       "      <td>0.00</td>\n",
       "      <td>10</td>\n",
       "      <td>PIRTTI</td>\n",
       "      <td>PIRTTI</td>\n",
       "      <td>1795.0</td>\n",
       "      <td>1880</td>\n",
       "      <td>False</td>\n",
       "      <td>12.1</td>\n",
       "      <td>2.7</td>\n",
       "    </tr>\n",
       "    <tr>\n",
       "      <th>1130</th>\n",
       "      <td>savonia</td>\n",
       "      <td>0.00</td>\n",
       "      <td>10</td>\n",
       "      <td>TORI</td>\n",
       "      <td>TORI</td>\n",
       "      <td>8.0</td>\n",
       "      <td>190</td>\n",
       "      <td>False</td>\n",
       "      <td>1.5</td>\n",
       "      <td>0.6</td>\n",
       "    </tr>\n",
       "    <tr>\n",
       "      <th>1200</th>\n",
       "      <td>single</td>\n",
       "      <td>0.55</td>\n",
       "      <td>7</td>\n",
       "      <td>TORI</td>\n",
       "      <td>PUIJONLAAKSO</td>\n",
       "      <td>611.0</td>\n",
       "      <td>2590</td>\n",
       "      <td>False</td>\n",
       "      <td>25.4</td>\n",
       "      <td>3.3</td>\n",
       "    </tr>\n",
       "  </tbody>\n",
       "</table>\n",
       "</div>"
      ],
      "text/plain": [
       "       ticket  cost month   location_from     location_to  duration  distance  \\\n",
       "188    single  0.10     7  TASAVALLANKATU  TASAVALLANKATU      61.0      1300   \n",
       "500    season  0.00    10          PIRTTI          PIRTTI    1795.0      1880   \n",
       "1130  savonia  0.00    10            TORI            TORI       8.0       190   \n",
       "1200   single  0.55     7            TORI    PUIJONLAAKSO     611.0      2590   \n",
       "\n",
       "      assistance  energy_used  energy_collected  \n",
       "188        False          9.0              11.1  \n",
       "500        False         12.1               2.7  \n",
       "1130       False          1.5               0.6  \n",
       "1200       False         25.4               3.3  "
      ]
     },
     "execution_count": 29,
     "metadata": {},
     "output_type": "execute_result"
    }
   ],
   "source": [
    "bikes_raw[ (bikes_raw[\"assistance\"] == False) & (bikes_raw[\"energy_used\"] > 0) ]"
   ]
  },
  {
   "cell_type": "code",
   "execution_count": 30,
   "id": "604f9b7f",
   "metadata": {},
   "outputs": [
    {
     "data": {
      "text/plain": [
       "18.1"
      ]
     },
     "execution_count": 30,
     "metadata": {},
     "output_type": "execute_result"
    }
   ],
   "source": [
    "bikes_raw[\"energy_used\"].median()"
   ]
  },
  {
   "cell_type": "markdown",
   "id": "63646738",
   "metadata": {},
   "source": [
    "Another case worth looking at is when there was no assistance used according to the data, yet energy was used. Once again I am unsure as to whether this is because of erroneous data collection, or perhaps the specifics of how the bikes work, such as the lights using energy from the battery if the speed of travel is not sufficient.\n",
    "In the end, I could not think of any plausible and probable explanation as to how the energy used could take positive values when the assistance is off, so I chose to discard these rows (as there are not many)."
   ]
  },
  {
   "cell_type": "code",
   "execution_count": 31,
   "id": "63e46bad",
   "metadata": {
    "scrolled": false
   },
   "outputs": [
    {
     "data": {
      "text/plain": [
       "Int64Index([188, 500, 1130, 1200], dtype='int64')"
      ]
     },
     "execution_count": 31,
     "metadata": {},
     "output_type": "execute_result"
    }
   ],
   "source": [
    "false_assistance = bikes_raw[ (bikes_raw[\"assistance\"] == False) & (bikes_raw[\"energy_used\"] > 0) ].index\n",
    "false_assistance"
   ]
  },
  {
   "cell_type": "code",
   "execution_count": 32,
   "id": "6e818139",
   "metadata": {},
   "outputs": [
    {
     "data": {
      "text/html": [
       "<div>\n",
       "<style scoped>\n",
       "    .dataframe tbody tr th:only-of-type {\n",
       "        vertical-align: middle;\n",
       "    }\n",
       "\n",
       "    .dataframe tbody tr th {\n",
       "        vertical-align: top;\n",
       "    }\n",
       "\n",
       "    .dataframe thead th {\n",
       "        text-align: right;\n",
       "    }\n",
       "</style>\n",
       "<table border=\"1\" class=\"dataframe\">\n",
       "  <thead>\n",
       "    <tr style=\"text-align: right;\">\n",
       "      <th></th>\n",
       "      <th>ticket</th>\n",
       "      <th>cost</th>\n",
       "      <th>month</th>\n",
       "      <th>location_from</th>\n",
       "      <th>location_to</th>\n",
       "      <th>duration</th>\n",
       "      <th>distance</th>\n",
       "      <th>assistance</th>\n",
       "      <th>energy_used</th>\n",
       "      <th>energy_collected</th>\n",
       "    </tr>\n",
       "  </thead>\n",
       "  <tbody>\n",
       "    <tr>\n",
       "      <th>0</th>\n",
       "      <td>single</td>\n",
       "      <td>0.35</td>\n",
       "      <td>9</td>\n",
       "      <td>MICROTEKNIA</td>\n",
       "      <td>PUIJONLAAKSO</td>\n",
       "      <td>411.0</td>\n",
       "      <td>2150</td>\n",
       "      <td>True</td>\n",
       "      <td>19.0</td>\n",
       "      <td>2.7</td>\n",
       "    </tr>\n",
       "    <tr>\n",
       "      <th>1</th>\n",
       "      <td>single</td>\n",
       "      <td>1.20</td>\n",
       "      <td>5</td>\n",
       "      <td>SATAMA</td>\n",
       "      <td>KEILANKANTA</td>\n",
       "      <td>1411.0</td>\n",
       "      <td>7130</td>\n",
       "      <td>True</td>\n",
       "      <td>53.8</td>\n",
       "      <td>15.3</td>\n",
       "    </tr>\n",
       "    <tr>\n",
       "      <th>2</th>\n",
       "      <td>savonia</td>\n",
       "      <td>0.00</td>\n",
       "      <td>9</td>\n",
       "      <td>TASAVALLANKATU</td>\n",
       "      <td>NEULAMÄKI</td>\n",
       "      <td>1308.0</td>\n",
       "      <td>5420</td>\n",
       "      <td>True</td>\n",
       "      <td>43.0</td>\n",
       "      <td>9.9</td>\n",
       "    </tr>\n",
       "    <tr>\n",
       "      <th>3</th>\n",
       "      <td>savonia</td>\n",
       "      <td>0.00</td>\n",
       "      <td>10</td>\n",
       "      <td>TORI</td>\n",
       "      <td>KAUPPAKATU</td>\n",
       "      <td>1036.0</td>\n",
       "      <td>1180</td>\n",
       "      <td>True</td>\n",
       "      <td>6.5</td>\n",
       "      <td>2.1</td>\n",
       "    </tr>\n",
       "    <tr>\n",
       "      <th>4</th>\n",
       "      <td>single</td>\n",
       "      <td>0.30</td>\n",
       "      <td>9</td>\n",
       "      <td>TORI</td>\n",
       "      <td>TORI</td>\n",
       "      <td>319.0</td>\n",
       "      <td>1120</td>\n",
       "      <td>True</td>\n",
       "      <td>13.7</td>\n",
       "      <td>1.2</td>\n",
       "    </tr>\n",
       "    <tr>\n",
       "      <th>...</th>\n",
       "      <td>...</td>\n",
       "      <td>...</td>\n",
       "      <td>...</td>\n",
       "      <td>...</td>\n",
       "      <td>...</td>\n",
       "      <td>...</td>\n",
       "      <td>...</td>\n",
       "      <td>...</td>\n",
       "      <td>...</td>\n",
       "      <td>...</td>\n",
       "    </tr>\n",
       "    <tr>\n",
       "      <th>1467</th>\n",
       "      <td>single</td>\n",
       "      <td>1.00</td>\n",
       "      <td>7</td>\n",
       "      <td>KEILANKANTA</td>\n",
       "      <td>KAUPPAKATU</td>\n",
       "      <td>1167.0</td>\n",
       "      <td>6070</td>\n",
       "      <td>True</td>\n",
       "      <td>34.3</td>\n",
       "      <td>3.0</td>\n",
       "    </tr>\n",
       "    <tr>\n",
       "      <th>1468</th>\n",
       "      <td>savonia</td>\n",
       "      <td>0.00</td>\n",
       "      <td>10</td>\n",
       "      <td>KAUPPAKATU</td>\n",
       "      <td>TORI</td>\n",
       "      <td>836.0</td>\n",
       "      <td>960</td>\n",
       "      <td>True</td>\n",
       "      <td>8.0</td>\n",
       "      <td>2.7</td>\n",
       "    </tr>\n",
       "    <tr>\n",
       "      <th>1469</th>\n",
       "      <td>single</td>\n",
       "      <td>0.20</td>\n",
       "      <td>7</td>\n",
       "      <td>TORI</td>\n",
       "      <td>SATAMA</td>\n",
       "      <td>199.0</td>\n",
       "      <td>930</td>\n",
       "      <td>True</td>\n",
       "      <td>3.7</td>\n",
       "      <td>3.6</td>\n",
       "    </tr>\n",
       "    <tr>\n",
       "      <th>1470</th>\n",
       "      <td>savonia</td>\n",
       "      <td>0.00</td>\n",
       "      <td>9</td>\n",
       "      <td>MICROTEKNIA</td>\n",
       "      <td>PUIJONLAAKSO</td>\n",
       "      <td>610.0</td>\n",
       "      <td>2460</td>\n",
       "      <td>True</td>\n",
       "      <td>36.5</td>\n",
       "      <td>6.9</td>\n",
       "    </tr>\n",
       "    <tr>\n",
       "      <th>1471</th>\n",
       "      <td>season</td>\n",
       "      <td>0.00</td>\n",
       "      <td>8</td>\n",
       "      <td>PUIJONLAAKSO</td>\n",
       "      <td>KAUPPAKATU</td>\n",
       "      <td>478.0</td>\n",
       "      <td>2250</td>\n",
       "      <td>True</td>\n",
       "      <td>8.1</td>\n",
       "      <td>13.8</td>\n",
       "    </tr>\n",
       "  </tbody>\n",
       "</table>\n",
       "<p>1468 rows × 10 columns</p>\n",
       "</div>"
      ],
      "text/plain": [
       "       ticket  cost month   location_from   location_to  duration  distance  \\\n",
       "0      single  0.35     9     MICROTEKNIA  PUIJONLAAKSO     411.0      2150   \n",
       "1      single  1.20     5          SATAMA   KEILANKANTA    1411.0      7130   \n",
       "2     savonia  0.00     9  TASAVALLANKATU     NEULAMÄKI    1308.0      5420   \n",
       "3     savonia  0.00    10            TORI    KAUPPAKATU    1036.0      1180   \n",
       "4      single  0.30     9            TORI          TORI     319.0      1120   \n",
       "...       ...   ...   ...             ...           ...       ...       ...   \n",
       "1467   single  1.00     7     KEILANKANTA    KAUPPAKATU    1167.0      6070   \n",
       "1468  savonia  0.00    10      KAUPPAKATU          TORI     836.0       960   \n",
       "1469   single  0.20     7            TORI        SATAMA     199.0       930   \n",
       "1470  savonia  0.00     9     MICROTEKNIA  PUIJONLAAKSO     610.0      2460   \n",
       "1471   season  0.00     8    PUIJONLAAKSO    KAUPPAKATU     478.0      2250   \n",
       "\n",
       "      assistance  energy_used  energy_collected  \n",
       "0           True         19.0               2.7  \n",
       "1           True         53.8              15.3  \n",
       "2           True         43.0               9.9  \n",
       "3           True          6.5               2.1  \n",
       "4           True         13.7               1.2  \n",
       "...          ...          ...               ...  \n",
       "1467        True         34.3               3.0  \n",
       "1468        True          8.0               2.7  \n",
       "1469        True          3.7               3.6  \n",
       "1470        True         36.5               6.9  \n",
       "1471        True          8.1              13.8  \n",
       "\n",
       "[1468 rows x 10 columns]"
      ]
     },
     "execution_count": 32,
     "metadata": {},
     "output_type": "execute_result"
    }
   ],
   "source": [
    "bikes_raw = bikes_raw.drop(false_assistance)\n",
    "bikes_raw"
   ]
  },
  {
   "cell_type": "code",
   "execution_count": 33,
   "id": "eb6c0559",
   "metadata": {},
   "outputs": [],
   "source": [
    "bikes_raw.reset_index(drop=True, inplace=True)"
   ]
  },
  {
   "cell_type": "markdown",
   "id": "4441e516",
   "metadata": {},
   "source": [
    "## Outlier detection with IQR"
   ]
  },
  {
   "cell_type": "markdown",
   "id": "b43a9cdb",
   "metadata": {},
   "source": [
    "Originally I used the z-score to find outliers, but upon some research, I have found that IQR is more suitable for skewed non normal data."
   ]
  },
  {
   "cell_type": "code",
   "execution_count": 34,
   "id": "3c15f12d",
   "metadata": {},
   "outputs": [],
   "source": [
    "#https://careerfoundry.com/en/blog/data-analytics/how-to-find-outliers/\n",
    "\n",
    "def find_outliers_IQR(df):\n",
    "    q1=df.quantile(0.25)\n",
    "    q3=df.quantile(0.75)\n",
    "    IQR=q3-q1\n",
    "    outliers = df[((df<(q1-3.0*IQR)) | (df>(q3+3.0*IQR)))]\n",
    "\n",
    "    return outliers"
   ]
  },
  {
   "cell_type": "code",
   "execution_count": 35,
   "id": "ad75cbd4",
   "metadata": {
    "scrolled": true
   },
   "outputs": [
    {
     "name": "stderr",
     "output_type": "stream",
     "text": [
      "C:\\Users\\zsmal\\AppData\\Local\\Temp\\ipykernel_16816\\597598505.py:1: FutureWarning: The default dtype for empty Series will be 'object' instead of 'float64' in a future version. Specify a dtype explicitly to silence this warning.\n",
      "  iqr_pd = pd.Series()\n"
     ]
    },
    {
     "data": {
      "text/plain": [
       "78        100.00\n",
       "166         2.45\n",
       "405         4.25\n",
       "457         3.65\n",
       "492         2.70\n",
       "524         2.90\n",
       "533         4.35\n",
       "574         3.55\n",
       "900         3.00\n",
       "987         4.10\n",
       "1011      100.00\n",
       "1176        4.45\n",
       "1236        4.80\n",
       "1360        4.00\n",
       "1454        4.30\n",
       "1462        3.70\n",
       "78      25614.00\n",
       "166      2905.00\n",
       "405      5078.00\n",
       "457      4345.00\n",
       "492      3185.00\n",
       "524      3474.00\n",
       "533      5214.00\n",
       "574      4207.00\n",
       "900      3545.00\n",
       "987      4911.00\n",
       "1011    22793.00\n",
       "1176     5285.00\n",
       "1236     5722.00\n",
       "1360     4793.00\n",
       "1454     5136.00\n",
       "1462     4400.00\n",
       "457     14240.00\n",
       "574     17410.00\n",
       "900     13650.00\n",
       "987     20770.00\n",
       "1011    14690.00\n",
       "1454    18720.00\n",
       "351        93.70\n",
       "457       140.60\n",
       "574       144.90\n",
       "987       124.20\n",
       "1292      101.50\n",
       "1360       98.30\n",
       "1454      133.40\n",
       "129        31.80\n",
       "351        32.70\n",
       "457        31.80\n",
       "574        56.40\n",
       "691        30.30\n",
       "900        35.10\n",
       "968        30.60\n",
       "987        52.20\n",
       "1004       31.80\n",
       "1198       30.60\n",
       "1279       32.40\n",
       "1296       41.10\n",
       "1360       55.50\n",
       "dtype: float64"
      ]
     },
     "execution_count": 35,
     "metadata": {},
     "output_type": "execute_result"
    }
   ],
   "source": [
    "iqr_pd = pd.Series()\n",
    "for col in cont_col:\n",
    "    iqr_pd = pd.concat([iqr_pd, find_outliers_IQR(bikes_raw[col])], axis=0, ignore_index = False)\n",
    "iqr_pd"
   ]
  },
  {
   "cell_type": "code",
   "execution_count": 36,
   "id": "fb22bde3",
   "metadata": {},
   "outputs": [
    {
     "data": {
      "text/plain": [
       "[78,\n",
       " 166,\n",
       " 405,\n",
       " 457,\n",
       " 492,\n",
       " 524,\n",
       " 533,\n",
       " 574,\n",
       " 900,\n",
       " 987,\n",
       " 1011,\n",
       " 1176,\n",
       " 1236,\n",
       " 1360,\n",
       " 1454,\n",
       " 1462,\n",
       " 351,\n",
       " 1292,\n",
       " 129,\n",
       " 691,\n",
       " 968,\n",
       " 1004,\n",
       " 1198,\n",
       " 1279,\n",
       " 1296]"
      ]
     },
     "execution_count": 36,
     "metadata": {},
     "output_type": "execute_result"
    }
   ],
   "source": [
    "iqr_pd_indexes = iqr_pd.keys().unique().tolist()\n",
    "iqr_pd_indexes"
   ]
  },
  {
   "cell_type": "code",
   "execution_count": 37,
   "id": "7cefbf9e",
   "metadata": {},
   "outputs": [],
   "source": [
    "bikes_no_outliers = bikes_raw.drop(iqr_pd_indexes, axis=0)\n",
    "bikes_no_outliers.reset_index(drop=True, inplace=True)\n",
    "\n",
    "bikes_outliers = bikes_raw.iloc[iqr_pd_indexes]\n",
    "bikes_outliers.reset_index(drop=True, inplace=True)"
   ]
  },
  {
   "cell_type": "code",
   "execution_count": 38,
   "id": "7ba7a9cc",
   "metadata": {},
   "outputs": [
    {
     "name": "stdout",
     "output_type": "stream",
     "text": [
      "1468\n",
      "1443\n",
      "25\n"
     ]
    }
   ],
   "source": [
    "print(len(bikes_raw))\n",
    "print(len(bikes_no_outliers))\n",
    "print(len(bikes_outliers))"
   ]
  },
  {
   "cell_type": "code",
   "execution_count": 39,
   "id": "1c69c863",
   "metadata": {},
   "outputs": [
    {
     "data": {
      "image/png": "[encoded data removed]",
      "text/plain": [
       "<Figure size 2160x1080 with 10 Axes>"
      ]
     },
     "metadata": {
      "needs_background": "light"
     },
     "output_type": "display_data"
    }
   ],
   "source": [
    "fig, axes = plt.subplots(nrows=2, ncols=5, figsize=(30, 15))\n",
    "\n",
    "\n",
    "j = 0\n",
    "for col in cont_col:\n",
    "    bikes_raw[col].plot.box(ax=axes[0, j])\n",
    "    j = j+1\n",
    "\n",
    "i = 0\n",
    "for col in cont_col:\n",
    "    bikes_no_outliers[col].plot.box(ax=axes[1, i])\n",
    "    i = i+1"
   ]
  },
  {
   "cell_type": "markdown",
   "id": "a8647bee",
   "metadata": {},
   "source": [
    "With the above few cells, the extreme positive outliers (+ IQR * 3, positive only because negative outliers aren't really present if we take the domain of our data into account) are identified. However, the question arises whether these data points are true outliers or not, and whether they should be discarded or taken into account. "
   ]
  },
  {
   "cell_type": "code",
   "execution_count": 40,
   "id": "ceca9e2e",
   "metadata": {
    "scrolled": false
   },
   "outputs": [
    {
     "data": {
      "text/html": [
       "<div>\n",
       "<style scoped>\n",
       "    .dataframe tbody tr th:only-of-type {\n",
       "        vertical-align: middle;\n",
       "    }\n",
       "\n",
       "    .dataframe tbody tr th {\n",
       "        vertical-align: top;\n",
       "    }\n",
       "\n",
       "    .dataframe thead th {\n",
       "        text-align: right;\n",
       "    }\n",
       "</style>\n",
       "<table border=\"1\" class=\"dataframe\">\n",
       "  <thead>\n",
       "    <tr style=\"text-align: right;\">\n",
       "      <th></th>\n",
       "      <th>ticket</th>\n",
       "      <th>cost</th>\n",
       "      <th>month</th>\n",
       "      <th>location_from</th>\n",
       "      <th>location_to</th>\n",
       "      <th>duration</th>\n",
       "      <th>distance</th>\n",
       "      <th>assistance</th>\n",
       "      <th>energy_used</th>\n",
       "      <th>energy_collected</th>\n",
       "    </tr>\n",
       "  </thead>\n",
       "  <tbody>\n",
       "    <tr>\n",
       "      <th>0</th>\n",
       "      <td>savonia</td>\n",
       "      <td>100.00</td>\n",
       "      <td>9</td>\n",
       "      <td>NEULAMÄKI</td>\n",
       "      <td>MICROTEKNIA</td>\n",
       "      <td>25614.0</td>\n",
       "      <td>2310</td>\n",
       "      <td>False</td>\n",
       "      <td>0.0</td>\n",
       "      <td>3.6</td>\n",
       "    </tr>\n",
       "    <tr>\n",
       "      <th>1</th>\n",
       "      <td>single</td>\n",
       "      <td>2.45</td>\n",
       "      <td>5</td>\n",
       "      <td>KEILANKANTA</td>\n",
       "      <td>KEILANKANTA</td>\n",
       "      <td>2905.0</td>\n",
       "      <td>2340</td>\n",
       "      <td>True</td>\n",
       "      <td>24.2</td>\n",
       "      <td>14.4</td>\n",
       "    </tr>\n",
       "    <tr>\n",
       "      <th>2</th>\n",
       "      <td>single</td>\n",
       "      <td>4.25</td>\n",
       "      <td>9</td>\n",
       "      <td>TORI</td>\n",
       "      <td>KAUPPAKATU</td>\n",
       "      <td>5078.0</td>\n",
       "      <td>9970</td>\n",
       "      <td>True</td>\n",
       "      <td>81.0</td>\n",
       "      <td>20.4</td>\n",
       "    </tr>\n",
       "    <tr>\n",
       "      <th>3</th>\n",
       "      <td>single</td>\n",
       "      <td>3.65</td>\n",
       "      <td>8</td>\n",
       "      <td>KEILANKANTA</td>\n",
       "      <td>KAUPPAKATU</td>\n",
       "      <td>4345.0</td>\n",
       "      <td>14240</td>\n",
       "      <td>True</td>\n",
       "      <td>140.6</td>\n",
       "      <td>31.8</td>\n",
       "    </tr>\n",
       "    <tr>\n",
       "      <th>4</th>\n",
       "      <td>single</td>\n",
       "      <td>2.70</td>\n",
       "      <td>6</td>\n",
       "      <td>TORI</td>\n",
       "      <td>KEILANKANTA</td>\n",
       "      <td>3185.0</td>\n",
       "      <td>7560</td>\n",
       "      <td>True</td>\n",
       "      <td>59.7</td>\n",
       "      <td>18.3</td>\n",
       "    </tr>\n",
       "    <tr>\n",
       "      <th>5</th>\n",
       "      <td>single</td>\n",
       "      <td>2.90</td>\n",
       "      <td>7</td>\n",
       "      <td>SATAMA</td>\n",
       "      <td>TORI</td>\n",
       "      <td>3474.0</td>\n",
       "      <td>5790</td>\n",
       "      <td>True</td>\n",
       "      <td>51.5</td>\n",
       "      <td>10.2</td>\n",
       "    </tr>\n",
       "    <tr>\n",
       "      <th>6</th>\n",
       "      <td>single</td>\n",
       "      <td>4.35</td>\n",
       "      <td>6</td>\n",
       "      <td>TORI</td>\n",
       "      <td>TORI</td>\n",
       "      <td>5214.0</td>\n",
       "      <td>8680</td>\n",
       "      <td>True</td>\n",
       "      <td>71.8</td>\n",
       "      <td>20.1</td>\n",
       "    </tr>\n",
       "    <tr>\n",
       "      <th>7</th>\n",
       "      <td>single</td>\n",
       "      <td>3.55</td>\n",
       "      <td>6</td>\n",
       "      <td>PUIJONLAAKSO</td>\n",
       "      <td>PUIJONLAAKSO</td>\n",
       "      <td>4207.0</td>\n",
       "      <td>17410</td>\n",
       "      <td>True</td>\n",
       "      <td>144.9</td>\n",
       "      <td>56.4</td>\n",
       "    </tr>\n",
       "    <tr>\n",
       "      <th>8</th>\n",
       "      <td>single</td>\n",
       "      <td>3.00</td>\n",
       "      <td>7</td>\n",
       "      <td>KAUPPAKATU</td>\n",
       "      <td>KAUPPAKATU</td>\n",
       "      <td>3545.0</td>\n",
       "      <td>13650</td>\n",
       "      <td>True</td>\n",
       "      <td>88.0</td>\n",
       "      <td>35.1</td>\n",
       "    </tr>\n",
       "    <tr>\n",
       "      <th>9</th>\n",
       "      <td>single</td>\n",
       "      <td>4.10</td>\n",
       "      <td>8</td>\n",
       "      <td>NEULAMÄKI</td>\n",
       "      <td>NEULAMÄKI</td>\n",
       "      <td>4911.0</td>\n",
       "      <td>20770</td>\n",
       "      <td>True</td>\n",
       "      <td>124.2</td>\n",
       "      <td>52.2</td>\n",
       "    </tr>\n",
       "    <tr>\n",
       "      <th>10</th>\n",
       "      <td>single</td>\n",
       "      <td>100.00</td>\n",
       "      <td>6</td>\n",
       "      <td>TASAVALLANKATU</td>\n",
       "      <td>PIRTTI</td>\n",
       "      <td>22793.0</td>\n",
       "      <td>14690</td>\n",
       "      <td>True</td>\n",
       "      <td>91.3</td>\n",
       "      <td>6.3</td>\n",
       "    </tr>\n",
       "    <tr>\n",
       "      <th>11</th>\n",
       "      <td>single</td>\n",
       "      <td>4.45</td>\n",
       "      <td>6</td>\n",
       "      <td>SATAMA</td>\n",
       "      <td>SATAMA</td>\n",
       "      <td>5285.0</td>\n",
       "      <td>11440</td>\n",
       "      <td>True</td>\n",
       "      <td>71.0</td>\n",
       "      <td>24.3</td>\n",
       "    </tr>\n",
       "    <tr>\n",
       "      <th>12</th>\n",
       "      <td>single</td>\n",
       "      <td>4.80</td>\n",
       "      <td>6</td>\n",
       "      <td>KAUPPAKATU</td>\n",
       "      <td>KAUPPAKATU</td>\n",
       "      <td>5722.0</td>\n",
       "      <td>3150</td>\n",
       "      <td>True</td>\n",
       "      <td>21.6</td>\n",
       "      <td>6.0</td>\n",
       "    </tr>\n",
       "    <tr>\n",
       "      <th>13</th>\n",
       "      <td>single</td>\n",
       "      <td>4.00</td>\n",
       "      <td>5</td>\n",
       "      <td>TORI</td>\n",
       "      <td>TORI</td>\n",
       "      <td>4793.0</td>\n",
       "      <td>11200</td>\n",
       "      <td>True</td>\n",
       "      <td>98.3</td>\n",
       "      <td>55.5</td>\n",
       "    </tr>\n",
       "    <tr>\n",
       "      <th>14</th>\n",
       "      <td>single</td>\n",
       "      <td>4.30</td>\n",
       "      <td>5</td>\n",
       "      <td>KEILANKANTA</td>\n",
       "      <td>KEILANKANTA</td>\n",
       "      <td>5136.0</td>\n",
       "      <td>18720</td>\n",
       "      <td>True</td>\n",
       "      <td>133.4</td>\n",
       "      <td>22.2</td>\n",
       "    </tr>\n",
       "    <tr>\n",
       "      <th>15</th>\n",
       "      <td>single</td>\n",
       "      <td>3.70</td>\n",
       "      <td>5</td>\n",
       "      <td>TORI</td>\n",
       "      <td>KAUPPAKATU</td>\n",
       "      <td>4400.0</td>\n",
       "      <td>5830</td>\n",
       "      <td>True</td>\n",
       "      <td>39.8</td>\n",
       "      <td>13.5</td>\n",
       "    </tr>\n",
       "    <tr>\n",
       "      <th>16</th>\n",
       "      <td>single</td>\n",
       "      <td>2.00</td>\n",
       "      <td>8</td>\n",
       "      <td>KAUPPAKATU</td>\n",
       "      <td>KAUPPAKATU</td>\n",
       "      <td>2391.0</td>\n",
       "      <td>12200</td>\n",
       "      <td>True</td>\n",
       "      <td>93.7</td>\n",
       "      <td>32.7</td>\n",
       "    </tr>\n",
       "    <tr>\n",
       "      <th>17</th>\n",
       "      <td>single</td>\n",
       "      <td>1.90</td>\n",
       "      <td>7</td>\n",
       "      <td>SATAMA</td>\n",
       "      <td>NEULAMÄKI</td>\n",
       "      <td>2235.0</td>\n",
       "      <td>10420</td>\n",
       "      <td>True</td>\n",
       "      <td>101.5</td>\n",
       "      <td>10.5</td>\n",
       "    </tr>\n",
       "    <tr>\n",
       "      <th>18</th>\n",
       "      <td>season</td>\n",
       "      <td>0.00</td>\n",
       "      <td>8</td>\n",
       "      <td>NEULAMÄKI</td>\n",
       "      <td>NEULAMÄKI</td>\n",
       "      <td>784.0</td>\n",
       "      <td>3530</td>\n",
       "      <td>True</td>\n",
       "      <td>24.7</td>\n",
       "      <td>31.8</td>\n",
       "    </tr>\n",
       "    <tr>\n",
       "      <th>19</th>\n",
       "      <td>single</td>\n",
       "      <td>1.55</td>\n",
       "      <td>6</td>\n",
       "      <td>PUIJONLAAKSO</td>\n",
       "      <td>TORI</td>\n",
       "      <td>1807.0</td>\n",
       "      <td>3690</td>\n",
       "      <td>True</td>\n",
       "      <td>22.0</td>\n",
       "      <td>30.3</td>\n",
       "    </tr>\n",
       "    <tr>\n",
       "      <th>20</th>\n",
       "      <td>single</td>\n",
       "      <td>1.25</td>\n",
       "      <td>6</td>\n",
       "      <td>NEULAMÄKI</td>\n",
       "      <td>PIRTTI</td>\n",
       "      <td>1467.0</td>\n",
       "      <td>8260</td>\n",
       "      <td>True</td>\n",
       "      <td>47.3</td>\n",
       "      <td>30.6</td>\n",
       "    </tr>\n",
       "    <tr>\n",
       "      <th>21</th>\n",
       "      <td>single</td>\n",
       "      <td>0.85</td>\n",
       "      <td>6</td>\n",
       "      <td>NEULAMÄKI</td>\n",
       "      <td>TORI</td>\n",
       "      <td>980.0</td>\n",
       "      <td>4550</td>\n",
       "      <td>True</td>\n",
       "      <td>29.3</td>\n",
       "      <td>31.8</td>\n",
       "    </tr>\n",
       "    <tr>\n",
       "      <th>22</th>\n",
       "      <td>single</td>\n",
       "      <td>1.30</td>\n",
       "      <td>6</td>\n",
       "      <td>NEULAMÄKI</td>\n",
       "      <td>TORI</td>\n",
       "      <td>1512.0</td>\n",
       "      <td>4850</td>\n",
       "      <td>True</td>\n",
       "      <td>32.3</td>\n",
       "      <td>30.6</td>\n",
       "    </tr>\n",
       "    <tr>\n",
       "      <th>23</th>\n",
       "      <td>single</td>\n",
       "      <td>0.60</td>\n",
       "      <td>6</td>\n",
       "      <td>PUIJONLAAKSO</td>\n",
       "      <td>SATAMA</td>\n",
       "      <td>694.0</td>\n",
       "      <td>3260</td>\n",
       "      <td>True</td>\n",
       "      <td>16.2</td>\n",
       "      <td>32.4</td>\n",
       "    </tr>\n",
       "    <tr>\n",
       "      <th>24</th>\n",
       "      <td>single</td>\n",
       "      <td>1.50</td>\n",
       "      <td>7</td>\n",
       "      <td>NEULAMÄKI</td>\n",
       "      <td>SATAMA</td>\n",
       "      <td>1782.0</td>\n",
       "      <td>6510</td>\n",
       "      <td>True</td>\n",
       "      <td>38.1</td>\n",
       "      <td>41.1</td>\n",
       "    </tr>\n",
       "  </tbody>\n",
       "</table>\n",
       "</div>"
      ],
      "text/plain": [
       "     ticket    cost month   location_from   location_to  duration  distance  \\\n",
       "0   savonia  100.00     9       NEULAMÄKI   MICROTEKNIA   25614.0      2310   \n",
       "1    single    2.45     5     KEILANKANTA   KEILANKANTA    2905.0      2340   \n",
       "2    single    4.25     9            TORI    KAUPPAKATU    5078.0      9970   \n",
       "3    single    3.65     8     KEILANKANTA    KAUPPAKATU    4345.0     14240   \n",
       "4    single    2.70     6            TORI   KEILANKANTA    3185.0      7560   \n",
       "5    single    2.90     7          SATAMA          TORI    3474.0      5790   \n",
       "6    single    4.35     6            TORI          TORI    5214.0      8680   \n",
       "7    single    3.55     6    PUIJONLAAKSO  PUIJONLAAKSO    4207.0     17410   \n",
       "8    single    3.00     7      KAUPPAKATU    KAUPPAKATU    3545.0     13650   \n",
       "9    single    4.10     8       NEULAMÄKI     NEULAMÄKI    4911.0     20770   \n",
       "10   single  100.00     6  TASAVALLANKATU        PIRTTI   22793.0     14690   \n",
       "11   single    4.45     6          SATAMA        SATAMA    5285.0     11440   \n",
       "12   single    4.80     6      KAUPPAKATU    KAUPPAKATU    5722.0      3150   \n",
       "13   single    4.00     5            TORI          TORI    4793.0     11200   \n",
       "14   single    4.30     5     KEILANKANTA   KEILANKANTA    5136.0     18720   \n",
       "15   single    3.70     5            TORI    KAUPPAKATU    4400.0      5830   \n",
       "16   single    2.00     8      KAUPPAKATU    KAUPPAKATU    2391.0     12200   \n",
       "17   single    1.90     7          SATAMA     NEULAMÄKI    2235.0     10420   \n",
       "18   season    0.00     8       NEULAMÄKI     NEULAMÄKI     784.0      3530   \n",
       "19   single    1.55     6    PUIJONLAAKSO          TORI    1807.0      3690   \n",
       "20   single    1.25     6       NEULAMÄKI        PIRTTI    1467.0      8260   \n",
       "21   single    0.85     6       NEULAMÄKI          TORI     980.0      4550   \n",
       "22   single    1.30     6       NEULAMÄKI          TORI    1512.0      4850   \n",
       "23   single    0.60     6    PUIJONLAAKSO        SATAMA     694.0      3260   \n",
       "24   single    1.50     7       NEULAMÄKI        SATAMA    1782.0      6510   \n",
       "\n",
       "    assistance  energy_used  energy_collected  \n",
       "0        False          0.0               3.6  \n",
       "1         True         24.2              14.4  \n",
       "2         True         81.0              20.4  \n",
       "3         True        140.6              31.8  \n",
       "4         True         59.7              18.3  \n",
       "5         True         51.5              10.2  \n",
       "6         True         71.8              20.1  \n",
       "7         True        144.9              56.4  \n",
       "8         True         88.0              35.1  \n",
       "9         True        124.2              52.2  \n",
       "10        True         91.3               6.3  \n",
       "11        True         71.0              24.3  \n",
       "12        True         21.6               6.0  \n",
       "13        True         98.3              55.5  \n",
       "14        True        133.4              22.2  \n",
       "15        True         39.8              13.5  \n",
       "16        True         93.7              32.7  \n",
       "17        True        101.5              10.5  \n",
       "18        True         24.7              31.8  \n",
       "19        True         22.0              30.3  \n",
       "20        True         47.3              30.6  \n",
       "21        True         29.3              31.8  \n",
       "22        True         32.3              30.6  \n",
       "23        True         16.2              32.4  \n",
       "24        True         38.1              41.1  "
      ]
     },
     "execution_count": 40,
     "metadata": {},
     "output_type": "execute_result"
    }
   ],
   "source": [
    "bikes_outliers"
   ]
  },
  {
   "cell_type": "markdown",
   "id": "29601ad7",
   "metadata": {},
   "source": [
    "Upon inspection of the outliers, I have found no evidence to think that these observations would be the result of errors or incorrect data recordings, as for each variable in these rows seems to take an acceptable possible value. These rows generally seem to be from longer distance trips with long duration, and almost all have used the electric assistance, with the amount of energy that was used surpassing the generated amount. The perhaps only strange row is #0, which has not used the electrical assistance, has travelled a great distance, and yet has generated a rather (comparably) low amount of energy. However, the duration of #0 also takes an extreme value, perhaps meaning that the person was cycling at a very slow pace. Regardless of the possible explanations, I do not have the context to deem this row invalid, so I chose to keep it.\n",
    "\n",
    "Perhaps it is best to keep the data in multiple forms: they should be separated to two different sets of data, extreme users, and regular ones (in case this came in handy at some questions), as well as keeping the whole dataset with all users (as I have found them to be true outliers)."
   ]
  },
  {
   "cell_type": "code",
   "execution_count": 41,
   "id": "cc457a35",
   "metadata": {},
   "outputs": [
    {
     "data": {
      "text/html": [
       "<div>\n",
       "<style scoped>\n",
       "    .dataframe tbody tr th:only-of-type {\n",
       "        vertical-align: middle;\n",
       "    }\n",
       "\n",
       "    .dataframe tbody tr th {\n",
       "        vertical-align: top;\n",
       "    }\n",
       "\n",
       "    .dataframe thead th {\n",
       "        text-align: right;\n",
       "    }\n",
       "</style>\n",
       "<table border=\"1\" class=\"dataframe\">\n",
       "  <thead>\n",
       "    <tr style=\"text-align: right;\">\n",
       "      <th></th>\n",
       "      <th>ticket</th>\n",
       "      <th>cost</th>\n",
       "      <th>month</th>\n",
       "      <th>location_from</th>\n",
       "      <th>location_to</th>\n",
       "      <th>duration</th>\n",
       "      <th>distance</th>\n",
       "      <th>assistance</th>\n",
       "      <th>energy_used</th>\n",
       "      <th>energy_collected</th>\n",
       "    </tr>\n",
       "  </thead>\n",
       "  <tbody>\n",
       "    <tr>\n",
       "      <th>0</th>\n",
       "      <td>single</td>\n",
       "      <td>0.35</td>\n",
       "      <td>9</td>\n",
       "      <td>MICROTEKNIA</td>\n",
       "      <td>PUIJONLAAKSO</td>\n",
       "      <td>411.0</td>\n",
       "      <td>2150</td>\n",
       "      <td>True</td>\n",
       "      <td>19.0</td>\n",
       "      <td>2.7</td>\n",
       "    </tr>\n",
       "    <tr>\n",
       "      <th>1</th>\n",
       "      <td>single</td>\n",
       "      <td>1.20</td>\n",
       "      <td>5</td>\n",
       "      <td>SATAMA</td>\n",
       "      <td>KEILANKANTA</td>\n",
       "      <td>1411.0</td>\n",
       "      <td>7130</td>\n",
       "      <td>True</td>\n",
       "      <td>53.8</td>\n",
       "      <td>15.3</td>\n",
       "    </tr>\n",
       "    <tr>\n",
       "      <th>2</th>\n",
       "      <td>savonia</td>\n",
       "      <td>0.00</td>\n",
       "      <td>9</td>\n",
       "      <td>TASAVALLANKATU</td>\n",
       "      <td>NEULAMÄKI</td>\n",
       "      <td>1308.0</td>\n",
       "      <td>5420</td>\n",
       "      <td>True</td>\n",
       "      <td>43.0</td>\n",
       "      <td>9.9</td>\n",
       "    </tr>\n",
       "    <tr>\n",
       "      <th>3</th>\n",
       "      <td>savonia</td>\n",
       "      <td>0.00</td>\n",
       "      <td>10</td>\n",
       "      <td>TORI</td>\n",
       "      <td>KAUPPAKATU</td>\n",
       "      <td>1036.0</td>\n",
       "      <td>1180</td>\n",
       "      <td>True</td>\n",
       "      <td>6.5</td>\n",
       "      <td>2.1</td>\n",
       "    </tr>\n",
       "    <tr>\n",
       "      <th>4</th>\n",
       "      <td>single</td>\n",
       "      <td>0.30</td>\n",
       "      <td>9</td>\n",
       "      <td>TORI</td>\n",
       "      <td>TORI</td>\n",
       "      <td>319.0</td>\n",
       "      <td>1120</td>\n",
       "      <td>True</td>\n",
       "      <td>13.7</td>\n",
       "      <td>1.2</td>\n",
       "    </tr>\n",
       "    <tr>\n",
       "      <th>...</th>\n",
       "      <td>...</td>\n",
       "      <td>...</td>\n",
       "      <td>...</td>\n",
       "      <td>...</td>\n",
       "      <td>...</td>\n",
       "      <td>...</td>\n",
       "      <td>...</td>\n",
       "      <td>...</td>\n",
       "      <td>...</td>\n",
       "      <td>...</td>\n",
       "    </tr>\n",
       "    <tr>\n",
       "      <th>1463</th>\n",
       "      <td>single</td>\n",
       "      <td>1.00</td>\n",
       "      <td>7</td>\n",
       "      <td>KEILANKANTA</td>\n",
       "      <td>KAUPPAKATU</td>\n",
       "      <td>1167.0</td>\n",
       "      <td>6070</td>\n",
       "      <td>True</td>\n",
       "      <td>34.3</td>\n",
       "      <td>3.0</td>\n",
       "    </tr>\n",
       "    <tr>\n",
       "      <th>1464</th>\n",
       "      <td>savonia</td>\n",
       "      <td>0.00</td>\n",
       "      <td>10</td>\n",
       "      <td>KAUPPAKATU</td>\n",
       "      <td>TORI</td>\n",
       "      <td>836.0</td>\n",
       "      <td>960</td>\n",
       "      <td>True</td>\n",
       "      <td>8.0</td>\n",
       "      <td>2.7</td>\n",
       "    </tr>\n",
       "    <tr>\n",
       "      <th>1465</th>\n",
       "      <td>single</td>\n",
       "      <td>0.20</td>\n",
       "      <td>7</td>\n",
       "      <td>TORI</td>\n",
       "      <td>SATAMA</td>\n",
       "      <td>199.0</td>\n",
       "      <td>930</td>\n",
       "      <td>True</td>\n",
       "      <td>3.7</td>\n",
       "      <td>3.6</td>\n",
       "    </tr>\n",
       "    <tr>\n",
       "      <th>1466</th>\n",
       "      <td>savonia</td>\n",
       "      <td>0.00</td>\n",
       "      <td>9</td>\n",
       "      <td>MICROTEKNIA</td>\n",
       "      <td>PUIJONLAAKSO</td>\n",
       "      <td>610.0</td>\n",
       "      <td>2460</td>\n",
       "      <td>True</td>\n",
       "      <td>36.5</td>\n",
       "      <td>6.9</td>\n",
       "    </tr>\n",
       "    <tr>\n",
       "      <th>1467</th>\n",
       "      <td>season</td>\n",
       "      <td>0.00</td>\n",
       "      <td>8</td>\n",
       "      <td>PUIJONLAAKSO</td>\n",
       "      <td>KAUPPAKATU</td>\n",
       "      <td>478.0</td>\n",
       "      <td>2250</td>\n",
       "      <td>True</td>\n",
       "      <td>8.1</td>\n",
       "      <td>13.8</td>\n",
       "    </tr>\n",
       "  </tbody>\n",
       "</table>\n",
       "<p>1468 rows × 10 columns</p>\n",
       "</div>"
      ],
      "text/plain": [
       "       ticket  cost month   location_from   location_to  duration  distance  \\\n",
       "0      single  0.35     9     MICROTEKNIA  PUIJONLAAKSO     411.0      2150   \n",
       "1      single  1.20     5          SATAMA   KEILANKANTA    1411.0      7130   \n",
       "2     savonia  0.00     9  TASAVALLANKATU     NEULAMÄKI    1308.0      5420   \n",
       "3     savonia  0.00    10            TORI    KAUPPAKATU    1036.0      1180   \n",
       "4      single  0.30     9            TORI          TORI     319.0      1120   \n",
       "...       ...   ...   ...             ...           ...       ...       ...   \n",
       "1463   single  1.00     7     KEILANKANTA    KAUPPAKATU    1167.0      6070   \n",
       "1464  savonia  0.00    10      KAUPPAKATU          TORI     836.0       960   \n",
       "1465   single  0.20     7            TORI        SATAMA     199.0       930   \n",
       "1466  savonia  0.00     9     MICROTEKNIA  PUIJONLAAKSO     610.0      2460   \n",
       "1467   season  0.00     8    PUIJONLAAKSO    KAUPPAKATU     478.0      2250   \n",
       "\n",
       "      assistance  energy_used  energy_collected  \n",
       "0           True         19.0               2.7  \n",
       "1           True         53.8              15.3  \n",
       "2           True         43.0               9.9  \n",
       "3           True          6.5               2.1  \n",
       "4           True         13.7               1.2  \n",
       "...          ...          ...               ...  \n",
       "1463        True         34.3               3.0  \n",
       "1464        True          8.0               2.7  \n",
       "1465        True          3.7               3.6  \n",
       "1466        True         36.5               6.9  \n",
       "1467        True          8.1              13.8  \n",
       "\n",
       "[1468 rows x 10 columns]"
      ]
     },
     "execution_count": 41,
     "metadata": {},
     "output_type": "execute_result"
    }
   ],
   "source": [
    "bikes_df = bikes_raw\n",
    "bikes_df\n",
    "#bikes_no_outliers\n",
    "#bikes_outliers"
   ]
  },
  {
   "cell_type": "markdown",
   "id": "8b6acdd6",
   "metadata": {},
   "source": [
    "## Z-score"
   ]
  },
  {
   "cell_type": "markdown",
   "id": "49c5d5e9",
   "metadata": {},
   "source": [
    "This is just leftover code from when I used the z-score, this section can be ignored."
   ]
  },
  {
   "cell_type": "code",
   "execution_count": 42,
   "id": "fc567c18",
   "metadata": {},
   "outputs": [],
   "source": [
    "#z_score = bikes_raw[cont_col].apply(zscore)"
   ]
  },
  {
   "cell_type": "code",
   "execution_count": 43,
   "id": "f751f18d",
   "metadata": {},
   "outputs": [],
   "source": [
    "#for col in cont_col:\n",
    "#    print(z_score[(z_score[col]>3) | (z_score[col]<(-3))])\n",
    "#    print(len(z_score[(z_score[col]>3) | (z_score[col]<(-3))]))\n",
    "#    print(\"\\n\")"
   ]
  },
  {
   "cell_type": "code",
   "execution_count": 44,
   "id": "493d6d7e",
   "metadata": {
    "scrolled": true
   },
   "outputs": [],
   "source": [
    "#cost_outliers = z_score[(z_score['cost']>3) | (z_score['cost']<(-3))].index\n",
    "#cost_outlier_rows = bikes_raw.loc[cost_outliers]\n",
    "\n",
    "#dur_outliers = z_score[(z_score['duration']>3) | (z_score['duration']<(-3))].index\n",
    "#dur_outlier_rows = bikes_raw.loc[dur_outliers]\n",
    "\n",
    "#dist_outliers = z_score[(z_score['distance']>3) | (z_score['distance']<(-3))].index\n",
    "#dist_outlier_rows = bikes_raw.loc[dist_outliers]\n",
    "\n",
    "#uenergy_outliers = z_score[(z_score['energy_used']>3) | (z_score['energy_used']<(-3))].index\n",
    "#uenergy_outlier_rows = bikes_raw.loc[uenergy_outliers]\n",
    "\n",
    "#cenergy_outliers = z_score[(z_score['energy_collected']>3) | (z_score['energy_collected']<(-3))].index\n",
    "#cenergy_outlier_rows = bikes_raw.loc[cenergy_outliers]"
   ]
  },
  {
   "cell_type": "code",
   "execution_count": 45,
   "id": "abc3bd1c",
   "metadata": {},
   "outputs": [],
   "source": [
    "#outlier_rows = pd.concat([cost_outlier_rows, dur_outlier_rows, dist_outlier_rows, uenergy_outlier_rows, cenergy_outlier_rows], axis=0, ignore_index=False)"
   ]
  },
  {
   "cell_type": "code",
   "execution_count": 46,
   "id": "b7ff4e9e",
   "metadata": {},
   "outputs": [],
   "source": [
    "#outlier_rows"
   ]
  },
  {
   "cell_type": "code",
   "execution_count": 47,
   "id": "ad9b9acd",
   "metadata": {},
   "outputs": [],
   "source": [
    "#bikes_outliers = bikes_raw.drop(outlier_rows.index, axis=0)"
   ]
  },
  {
   "cell_type": "code",
   "execution_count": 48,
   "id": "744a0514",
   "metadata": {},
   "outputs": [],
   "source": [
    "#bikes_outliers"
   ]
  },
  {
   "cell_type": "code",
   "execution_count": 49,
   "id": "ab5223d1",
   "metadata": {},
   "outputs": [],
   "source": [
    "#fig, axes = plt.subplots(nrows=2, ncols=5, figsize=(30, 15))\n",
    "\n",
    "\n",
    "#j = 0\n",
    "#for col in cont_col:\n",
    "#    bikes_raw[col].plot.box(ax=axes[0, j])\n",
    "#    j = j+1\n",
    "\n",
    "#i = 0\n",
    "#for col in cont_col:\n",
    "#    bikes_outliers[col].plot.box(ax=axes[1, i])\n",
    "#    i = i+1"
   ]
  },
  {
   "cell_type": "markdown",
   "id": "57338b35",
   "metadata": {},
   "source": [
    "# 2. Data exploration"
   ]
  },
  {
   "cell_type": "markdown",
   "id": "bf73091a",
   "metadata": {},
   "source": [
    "### Q1\n",
    "\"For each ticket type, calculate the number of trips made, the total distance travelled, the total time travelled and the total amount of fees paid. Examine your results and make comments about the customers.\""
   ]
  },
  {
   "cell_type": "code",
   "execution_count": 50,
   "id": "82ad9aac",
   "metadata": {},
   "outputs": [],
   "source": [
    "def ticket_summary(df):\n",
    "    df_g = df.groupby(\"ticket\")\n",
    "    r = []\n",
    "    \n",
    "    r.append(df_g[\"cost\"].count())\n",
    "    r.append(df_g[\"distance\"].sum())\n",
    "    r.append(df_g[\"duration\"].sum())\n",
    "    r.append(df_g[\"cost\"].sum())\n",
    "    \n",
    "    return r"
   ]
  },
  {
   "cell_type": "code",
   "execution_count": 51,
   "id": "7eb28f45",
   "metadata": {
    "scrolled": true
   },
   "outputs": [
    {
     "name": "stdout",
     "output_type": "stream",
     "text": [
      "Number of trips made per ticket type:\n",
      "\n"
     ]
    },
    {
     "data": {
      "text/plain": [
       "ticket\n",
       "savonia    216\n",
       "season     451\n",
       "single     801\n",
       "Name: cost, dtype: int64"
      ]
     },
     "execution_count": 51,
     "metadata": {},
     "output_type": "execute_result"
    }
   ],
   "source": [
    "print(\"Number of trips made per ticket type:\\n\")\n",
    "ticket_summary(bikes_df)[0]"
   ]
  },
  {
   "cell_type": "code",
   "execution_count": 52,
   "id": "124d300b",
   "metadata": {
    "scrolled": true
   },
   "outputs": [
    {
     "name": "stdout",
     "output_type": "stream",
     "text": [
      "Total distance travelled per ticket type:\n",
      "\n"
     ]
    },
    {
     "data": {
      "text/plain": [
       "ticket\n",
       "savonia     494960\n",
       "season     1308100\n",
       "single     2556910\n",
       "Name: distance, dtype: int64"
      ]
     },
     "execution_count": 52,
     "metadata": {},
     "output_type": "execute_result"
    }
   ],
   "source": [
    "print(\"Total distance travelled per ticket type:\\n\")\n",
    "ticket_summary(bikes_df)[1]"
   ]
  },
  {
   "cell_type": "code",
   "execution_count": 53,
   "id": "5f6bed5a",
   "metadata": {},
   "outputs": [
    {
     "name": "stdout",
     "output_type": "stream",
     "text": [
      "Total time travelled per ticket type:\n",
      "\n"
     ]
    },
    {
     "data": {
      "text/plain": [
       "ticket\n",
       "savonia    162998.0\n",
       "season     312584.0\n",
       "single     654028.0\n",
       "Name: duration, dtype: float64"
      ]
     },
     "execution_count": 53,
     "metadata": {},
     "output_type": "execute_result"
    }
   ],
   "source": [
    "print(\"Total time travelled per ticket type:\\n\")\n",
    "ticket_summary(bikes_df)[2]"
   ]
  },
  {
   "cell_type": "code",
   "execution_count": 54,
   "id": "4bb9ee42",
   "metadata": {},
   "outputs": [
    {
     "name": "stdout",
     "output_type": "stream",
     "text": [
      "Total amount of fees paid per ticket type:\n",
      "\n"
     ]
    },
    {
     "data": {
      "text/plain": [
       "ticket\n",
       "savonia    102.0\n",
       "season       3.0\n",
       "single     646.5\n",
       "Name: cost, dtype: float64"
      ]
     },
     "execution_count": 54,
     "metadata": {},
     "output_type": "execute_result"
    }
   ],
   "source": [
    "print(\"Total amount of fees paid per ticket type:\\n\")\n",
    "ticket_summary(bikes_df)[3]"
   ]
  },
  {
   "cell_type": "markdown",
   "id": "f6e1a6a7",
   "metadata": {},
   "source": [
    "We can see that most commonly people use single tickets to use the company's bikes, having more trips per this ticket type than the other 2 combined. The same can be said about the total distance travelled and the duraction, with the single tickets surpassing the combined values of both the savonia and season ticket types. In general, season tickets were used about twice as many times as savonia tickets. We can also observe that the savonia ticket users had the least duration and distance travelled by a sizable margin."
   ]
  },
  {
   "cell_type": "markdown",
   "id": "0af7b61f",
   "metadata": {},
   "source": [
    "As for the fees, the single ticket type has brought the most revenue. It is interesting to observe how small fees the season ticket type has, but perhaps this is due to having to buy season type tickets as a \"one-time-sum\". Overall the ratio of -total fees divided by the total distance or total time travelled- is in favor of single tickets."
   ]
  },
  {
   "cell_type": "markdown",
   "id": "930b503f",
   "metadata": {},
   "source": [
    "### Q2\n",
    " \"For each ticket type, visualise the monthly rental activity in terms of the total distance travelled. Examine your results and make comments about the development of the rental activity over time.\""
   ]
  },
  {
   "cell_type": "code",
   "execution_count": 55,
   "id": "f8db9672",
   "metadata": {},
   "outputs": [
    {
     "data": {
      "text/html": [
       "<div>\n",
       "<style scoped>\n",
       "    .dataframe tbody tr th:only-of-type {\n",
       "        vertical-align: middle;\n",
       "    }\n",
       "\n",
       "    .dataframe tbody tr th {\n",
       "        vertical-align: top;\n",
       "    }\n",
       "\n",
       "    .dataframe thead th {\n",
       "        text-align: right;\n",
       "    }\n",
       "</style>\n",
       "<table border=\"1\" class=\"dataframe\">\n",
       "  <thead>\n",
       "    <tr style=\"text-align: right;\">\n",
       "      <th>ticket</th>\n",
       "      <th>savonia</th>\n",
       "      <th>season</th>\n",
       "      <th>single</th>\n",
       "    </tr>\n",
       "    <tr>\n",
       "      <th>month</th>\n",
       "      <th></th>\n",
       "      <th></th>\n",
       "      <th></th>\n",
       "    </tr>\n",
       "  </thead>\n",
       "  <tbody>\n",
       "    <tr>\n",
       "      <th>4</th>\n",
       "      <td>0</td>\n",
       "      <td>30680</td>\n",
       "      <td>34290</td>\n",
       "    </tr>\n",
       "    <tr>\n",
       "      <th>5</th>\n",
       "      <td>0</td>\n",
       "      <td>256720</td>\n",
       "      <td>494500</td>\n",
       "    </tr>\n",
       "    <tr>\n",
       "      <th>6</th>\n",
       "      <td>0</td>\n",
       "      <td>244780</td>\n",
       "      <td>710240</td>\n",
       "    </tr>\n",
       "    <tr>\n",
       "      <th>7</th>\n",
       "      <td>0</td>\n",
       "      <td>268150</td>\n",
       "      <td>585500</td>\n",
       "    </tr>\n",
       "    <tr>\n",
       "      <th>8</th>\n",
       "      <td>0</td>\n",
       "      <td>214490</td>\n",
       "      <td>357890</td>\n",
       "    </tr>\n",
       "    <tr>\n",
       "      <th>9</th>\n",
       "      <td>240790</td>\n",
       "      <td>184840</td>\n",
       "      <td>240370</td>\n",
       "    </tr>\n",
       "    <tr>\n",
       "      <th>10</th>\n",
       "      <td>254170</td>\n",
       "      <td>108440</td>\n",
       "      <td>134120</td>\n",
       "    </tr>\n",
       "  </tbody>\n",
       "</table>\n",
       "</div>"
      ],
      "text/plain": [
       "ticket  savonia  season  single\n",
       "month                          \n",
       "4             0   30680   34290\n",
       "5             0  256720  494500\n",
       "6             0  244780  710240\n",
       "7             0  268150  585500\n",
       "8             0  214490  357890\n",
       "9        240790  184840  240370\n",
       "10       254170  108440  134120"
      ]
     },
     "execution_count": 55,
     "metadata": {},
     "output_type": "execute_result"
    }
   ],
   "source": [
    "bikes_pivot = bikes_df.pivot_table(index='month', columns='ticket', values='distance', aggfunc='sum')\n",
    "bikes_pivot"
   ]
  },
  {
   "cell_type": "code",
   "execution_count": 56,
   "id": "0e718fe9",
   "metadata": {},
   "outputs": [
    {
     "data": {
      "image/png": "[encoded data removed]",
      "text/plain": [
       "<Figure size 432x288 with 1 Axes>"
      ]
     },
     "metadata": {
      "needs_background": "light"
     },
     "output_type": "display_data"
    }
   ],
   "source": [
    "bikes_pivot.plot(kind='bar', stacked=False)\n",
    "plt.title('Total Distance Travelled by Month and Ticket Type')\n",
    "plt.xlabel('Month')\n",
    "plt.ylabel('Total Distance Travelled')\n",
    "plt.show()"
   ]
  },
  {
   "cell_type": "markdown",
   "id": "7283cdbf",
   "metadata": {},
   "source": [
    "In general for both the single and the season ticket types it can be observed that significant distance starts from May and reaches a peak volume in June, and then gradually decreases in the fall towards the winter months.\n",
    "\n",
    "Interestingly the savonia type tickets only start from September, and the total distance travelled increses in October (perhaps this type of ticket was introduced in September?)."
   ]
  },
  {
   "cell_type": "markdown",
   "id": "dad80798",
   "metadata": {},
   "source": [
    "### Q3\n",
    "\"Find the three stations that have the highest total deficit of bikes (i.e. the largest negative difference between the number of arrived bikes and the number of departured bikes) and the three stations that have the highest total surplus of bikes (i.e. the largest positive difference). Examine your results and make suggestions about how bikes could be relocated.\""
   ]
  },
  {
   "cell_type": "code",
   "execution_count": 57,
   "id": "ed3c0906",
   "metadata": {},
   "outputs": [
    {
     "data": {
      "text/plain": [
       "array([ True,  True,  True,  True,  True,  True,  True,  True,  True,\n",
       "        True])"
      ]
     },
     "execution_count": 57,
     "metadata": {},
     "output_type": "execute_result"
    }
   ],
   "source": [
    "(bikes_df[\"location_from\"].unique().sort_values()) == (bikes_df[\"location_to\"].unique().sort_values())"
   ]
  },
  {
   "cell_type": "code",
   "execution_count": 58,
   "id": "4d52a813",
   "metadata": {},
   "outputs": [],
   "source": [
    "locations = bikes_df[\"location_from\"].unique().tolist()"
   ]
  },
  {
   "cell_type": "code",
   "execution_count": 59,
   "id": "97f92a84",
   "metadata": {
    "scrolled": true
   },
   "outputs": [
    {
     "data": {
      "text/plain": [
       "{'MICROTEKNIA': 9,\n",
       " 'SATAMA': 38,\n",
       " 'TASAVALLANKATU': -12,\n",
       " 'TORI': 11,\n",
       " 'NEULAMÄKI': 0,\n",
       " 'KEILANKANTA': 10,\n",
       " 'PUIJONLAAKSO': -29,\n",
       " 'KAUPPAKATU': -42,\n",
       " 'KYS': 17,\n",
       " 'PIRTTI': -2}"
      ]
     },
     "execution_count": 59,
     "metadata": {},
     "output_type": "execute_result"
    }
   ],
   "source": [
    "net_traffic = {}\n",
    "for location in locations:\n",
    "    b = bikes_df[bikes_df[\"location_to\"] == location].count()[0]\n",
    "    a = bikes_df[bikes_df[\"location_from\"] == location].count()[0]\n",
    "    c = a-b\n",
    "    net_traffic[location] = c\n",
    "net_traffic"
   ]
  },
  {
   "cell_type": "code",
   "execution_count": 60,
   "id": "6149caf5",
   "metadata": {},
   "outputs": [
    {
     "data": {
      "text/plain": [
       "{'KAUPPAKATU': -42,\n",
       " 'PUIJONLAAKSO': -29,\n",
       " 'TASAVALLANKATU': -12,\n",
       " 'PIRTTI': -2,\n",
       " 'NEULAMÄKI': 0,\n",
       " 'MICROTEKNIA': 9,\n",
       " 'KEILANKANTA': 10,\n",
       " 'TORI': 11,\n",
       " 'KYS': 17,\n",
       " 'SATAMA': 38}"
      ]
     },
     "execution_count": 60,
     "metadata": {},
     "output_type": "execute_result"
    }
   ],
   "source": [
    "#https://stackoverflow.com/questions/613183/how-do-i-sort-a-dictionary-by-value\n",
    "sorted_net_traffic = dict(sorted(net_traffic.items(), key=lambda item: item[1]))\n",
    "sorted_net_traffic "
   ]
  },
  {
   "cell_type": "code",
   "execution_count": 61,
   "id": "41a99630",
   "metadata": {},
   "outputs": [],
   "source": [
    "first_3 = dict(list(sorted_net_traffic .items())[:3])\n",
    "last_3 = dict(list(sorted_net_traffic .items())[-3:])"
   ]
  },
  {
   "cell_type": "code",
   "execution_count": 62,
   "id": "f5232811",
   "metadata": {},
   "outputs": [
    {
     "data": {
      "text/plain": [
       "{'KAUPPAKATU': -42, 'PUIJONLAAKSO': -29, 'TASAVALLANKATU': -12}"
      ]
     },
     "execution_count": 62,
     "metadata": {},
     "output_type": "execute_result"
    }
   ],
   "source": [
    "first_3"
   ]
  },
  {
   "cell_type": "markdown",
   "id": "4740d234",
   "metadata": {},
   "source": [
    "The 3 stations with the biggest deficit of bikes are KAUPPAKATU, PUIJONLAAKSO and TASAVALLANKATU stations."
   ]
  },
  {
   "cell_type": "code",
   "execution_count": 63,
   "id": "a475a3fa",
   "metadata": {
    "scrolled": true
   },
   "outputs": [
    {
     "data": {
      "text/plain": [
       "{'TORI': 11, 'KYS': 17, 'SATAMA': 38}"
      ]
     },
     "execution_count": 63,
     "metadata": {},
     "output_type": "execute_result"
    }
   ],
   "source": [
    "last_3"
   ]
  },
  {
   "cell_type": "markdown",
   "id": "c0f79683",
   "metadata": {},
   "source": [
    "The 3 stations with the biggest surplus of bikes are SATAMA, KYS and TORI stations."
   ]
  },
  {
   "cell_type": "markdown",
   "id": "a52f07f5",
   "metadata": {},
   "source": [
    "Perhaps a solution would be to move some of the surplus bikes from: <br>\n",
    "SATAMA -> KAUPPAKATU <br>\n",
    "KYS -> PUIJONLAAKSO <br>\n",
    "TORI -> TASAVALLANKATU"
   ]
  },
  {
   "cell_type": "markdown",
   "id": "92767590",
   "metadata": {},
   "source": [
    "### Q4\n",
    "\"For each trip in the data set, calculate its net energy gain, which is defined as the difference between the energy collected and consumed during a trip. Visualise the distribution of this new variable. Make comments about how much battery levels tend to change during trips.\""
   ]
  },
  {
   "cell_type": "code",
   "execution_count": 64,
   "id": "aa5bb7aa",
   "metadata": {},
   "outputs": [],
   "source": [
    "bikes_df[\"net_energy_gain\"] = bikes_df[\"energy_collected\"] - bikes_df[\"energy_used\"]"
   ]
  },
  {
   "cell_type": "code",
   "execution_count": 65,
   "id": "30d89688",
   "metadata": {
    "scrolled": true
   },
   "outputs": [
    {
     "data": {
      "text/html": [
       "<div>\n",
       "<style scoped>\n",
       "    .dataframe tbody tr th:only-of-type {\n",
       "        vertical-align: middle;\n",
       "    }\n",
       "\n",
       "    .dataframe tbody tr th {\n",
       "        vertical-align: top;\n",
       "    }\n",
       "\n",
       "    .dataframe thead th {\n",
       "        text-align: right;\n",
       "    }\n",
       "</style>\n",
       "<table border=\"1\" class=\"dataframe\">\n",
       "  <thead>\n",
       "    <tr style=\"text-align: right;\">\n",
       "      <th></th>\n",
       "      <th>ticket</th>\n",
       "      <th>cost</th>\n",
       "      <th>month</th>\n",
       "      <th>location_from</th>\n",
       "      <th>location_to</th>\n",
       "      <th>duration</th>\n",
       "      <th>distance</th>\n",
       "      <th>assistance</th>\n",
       "      <th>energy_used</th>\n",
       "      <th>energy_collected</th>\n",
       "      <th>net_energy_gain</th>\n",
       "    </tr>\n",
       "  </thead>\n",
       "  <tbody>\n",
       "    <tr>\n",
       "      <th>0</th>\n",
       "      <td>single</td>\n",
       "      <td>0.35</td>\n",
       "      <td>9</td>\n",
       "      <td>MICROTEKNIA</td>\n",
       "      <td>PUIJONLAAKSO</td>\n",
       "      <td>411.0</td>\n",
       "      <td>2150</td>\n",
       "      <td>True</td>\n",
       "      <td>19.0</td>\n",
       "      <td>2.7</td>\n",
       "      <td>-16.3</td>\n",
       "    </tr>\n",
       "    <tr>\n",
       "      <th>1</th>\n",
       "      <td>single</td>\n",
       "      <td>1.20</td>\n",
       "      <td>5</td>\n",
       "      <td>SATAMA</td>\n",
       "      <td>KEILANKANTA</td>\n",
       "      <td>1411.0</td>\n",
       "      <td>7130</td>\n",
       "      <td>True</td>\n",
       "      <td>53.8</td>\n",
       "      <td>15.3</td>\n",
       "      <td>-38.5</td>\n",
       "    </tr>\n",
       "    <tr>\n",
       "      <th>2</th>\n",
       "      <td>savonia</td>\n",
       "      <td>0.00</td>\n",
       "      <td>9</td>\n",
       "      <td>TASAVALLANKATU</td>\n",
       "      <td>NEULAMÄKI</td>\n",
       "      <td>1308.0</td>\n",
       "      <td>5420</td>\n",
       "      <td>True</td>\n",
       "      <td>43.0</td>\n",
       "      <td>9.9</td>\n",
       "      <td>-33.1</td>\n",
       "    </tr>\n",
       "    <tr>\n",
       "      <th>3</th>\n",
       "      <td>savonia</td>\n",
       "      <td>0.00</td>\n",
       "      <td>10</td>\n",
       "      <td>TORI</td>\n",
       "      <td>KAUPPAKATU</td>\n",
       "      <td>1036.0</td>\n",
       "      <td>1180</td>\n",
       "      <td>True</td>\n",
       "      <td>6.5</td>\n",
       "      <td>2.1</td>\n",
       "      <td>-4.4</td>\n",
       "    </tr>\n",
       "    <tr>\n",
       "      <th>4</th>\n",
       "      <td>single</td>\n",
       "      <td>0.30</td>\n",
       "      <td>9</td>\n",
       "      <td>TORI</td>\n",
       "      <td>TORI</td>\n",
       "      <td>319.0</td>\n",
       "      <td>1120</td>\n",
       "      <td>True</td>\n",
       "      <td>13.7</td>\n",
       "      <td>1.2</td>\n",
       "      <td>-12.5</td>\n",
       "    </tr>\n",
       "    <tr>\n",
       "      <th>...</th>\n",
       "      <td>...</td>\n",
       "      <td>...</td>\n",
       "      <td>...</td>\n",
       "      <td>...</td>\n",
       "      <td>...</td>\n",
       "      <td>...</td>\n",
       "      <td>...</td>\n",
       "      <td>...</td>\n",
       "      <td>...</td>\n",
       "      <td>...</td>\n",
       "      <td>...</td>\n",
       "    </tr>\n",
       "    <tr>\n",
       "      <th>1463</th>\n",
       "      <td>single</td>\n",
       "      <td>1.00</td>\n",
       "      <td>7</td>\n",
       "      <td>KEILANKANTA</td>\n",
       "      <td>KAUPPAKATU</td>\n",
       "      <td>1167.0</td>\n",
       "      <td>6070</td>\n",
       "      <td>True</td>\n",
       "      <td>34.3</td>\n",
       "      <td>3.0</td>\n",
       "      <td>-31.3</td>\n",
       "    </tr>\n",
       "    <tr>\n",
       "      <th>1464</th>\n",
       "      <td>savonia</td>\n",
       "      <td>0.00</td>\n",
       "      <td>10</td>\n",
       "      <td>KAUPPAKATU</td>\n",
       "      <td>TORI</td>\n",
       "      <td>836.0</td>\n",
       "      <td>960</td>\n",
       "      <td>True</td>\n",
       "      <td>8.0</td>\n",
       "      <td>2.7</td>\n",
       "      <td>-5.3</td>\n",
       "    </tr>\n",
       "    <tr>\n",
       "      <th>1465</th>\n",
       "      <td>single</td>\n",
       "      <td>0.20</td>\n",
       "      <td>7</td>\n",
       "      <td>TORI</td>\n",
       "      <td>SATAMA</td>\n",
       "      <td>199.0</td>\n",
       "      <td>930</td>\n",
       "      <td>True</td>\n",
       "      <td>3.7</td>\n",
       "      <td>3.6</td>\n",
       "      <td>-0.1</td>\n",
       "    </tr>\n",
       "    <tr>\n",
       "      <th>1466</th>\n",
       "      <td>savonia</td>\n",
       "      <td>0.00</td>\n",
       "      <td>9</td>\n",
       "      <td>MICROTEKNIA</td>\n",
       "      <td>PUIJONLAAKSO</td>\n",
       "      <td>610.0</td>\n",
       "      <td>2460</td>\n",
       "      <td>True</td>\n",
       "      <td>36.5</td>\n",
       "      <td>6.9</td>\n",
       "      <td>-29.6</td>\n",
       "    </tr>\n",
       "    <tr>\n",
       "      <th>1467</th>\n",
       "      <td>season</td>\n",
       "      <td>0.00</td>\n",
       "      <td>8</td>\n",
       "      <td>PUIJONLAAKSO</td>\n",
       "      <td>KAUPPAKATU</td>\n",
       "      <td>478.0</td>\n",
       "      <td>2250</td>\n",
       "      <td>True</td>\n",
       "      <td>8.1</td>\n",
       "      <td>13.8</td>\n",
       "      <td>5.7</td>\n",
       "    </tr>\n",
       "  </tbody>\n",
       "</table>\n",
       "<p>1468 rows × 11 columns</p>\n",
       "</div>"
      ],
      "text/plain": [
       "       ticket  cost month   location_from   location_to  duration  distance  \\\n",
       "0      single  0.35     9     MICROTEKNIA  PUIJONLAAKSO     411.0      2150   \n",
       "1      single  1.20     5          SATAMA   KEILANKANTA    1411.0      7130   \n",
       "2     savonia  0.00     9  TASAVALLANKATU     NEULAMÄKI    1308.0      5420   \n",
       "3     savonia  0.00    10            TORI    KAUPPAKATU    1036.0      1180   \n",
       "4      single  0.30     9            TORI          TORI     319.0      1120   \n",
       "...       ...   ...   ...             ...           ...       ...       ...   \n",
       "1463   single  1.00     7     KEILANKANTA    KAUPPAKATU    1167.0      6070   \n",
       "1464  savonia  0.00    10      KAUPPAKATU          TORI     836.0       960   \n",
       "1465   single  0.20     7            TORI        SATAMA     199.0       930   \n",
       "1466  savonia  0.00     9     MICROTEKNIA  PUIJONLAAKSO     610.0      2460   \n",
       "1467   season  0.00     8    PUIJONLAAKSO    KAUPPAKATU     478.0      2250   \n",
       "\n",
       "      assistance  energy_used  energy_collected  net_energy_gain  \n",
       "0           True         19.0               2.7            -16.3  \n",
       "1           True         53.8              15.3            -38.5  \n",
       "2           True         43.0               9.9            -33.1  \n",
       "3           True          6.5               2.1             -4.4  \n",
       "4           True         13.7               1.2            -12.5  \n",
       "...          ...          ...               ...              ...  \n",
       "1463        True         34.3               3.0            -31.3  \n",
       "1464        True          8.0               2.7             -5.3  \n",
       "1465        True          3.7               3.6             -0.1  \n",
       "1466        True         36.5               6.9            -29.6  \n",
       "1467        True          8.1              13.8              5.7  \n",
       "\n",
       "[1468 rows x 11 columns]"
      ]
     },
     "execution_count": 65,
     "metadata": {},
     "output_type": "execute_result"
    }
   ],
   "source": [
    "bikes_df"
   ]
  },
  {
   "cell_type": "code",
   "execution_count": 66,
   "id": "fefae181",
   "metadata": {
    "scrolled": true
   },
   "outputs": [
    {
     "data": {
      "text/plain": [
       "(array([  2.,   0.,   3.,   0.,   1.,   9.,  16.,  56.,  94., 180., 272.,\n",
       "        362., 351., 109.,  13.]),\n",
       " array([-111.2       , -102.40666667,  -93.61333333,  -84.82      ,\n",
       "         -76.02666667,  -67.23333333,  -58.44      ,  -49.64666667,\n",
       "         -40.85333333,  -32.06      ,  -23.26666667,  -14.47333333,\n",
       "          -5.68      ,    3.11333333,   11.90666667,   20.7       ]),\n",
       " <BarContainer object of 15 artists>)"
      ]
     },
     "execution_count": 66,
     "metadata": {},
     "output_type": "execute_result"
    },
    {
     "data": {
      "image/png": "[encoded data removed]",
      "text/plain": [
       "<Figure size 432x288 with 1 Axes>"
      ]
     },
     "metadata": {
      "needs_background": "light"
     },
     "output_type": "display_data"
    }
   ],
   "source": [
    "plt.hist(bikes_df[\"net_energy_gain\"], 15)"
   ]
  },
  {
   "cell_type": "code",
   "execution_count": 67,
   "id": "dac70106",
   "metadata": {
    "scrolled": true
   },
   "outputs": [
    {
     "data": {
      "text/plain": [
       "-20790.3"
      ]
     },
     "execution_count": 67,
     "metadata": {},
     "output_type": "execute_result"
    }
   ],
   "source": [
    "bikes_df[\"net_energy_gain\"].sum()"
   ]
  },
  {
   "cell_type": "markdown",
   "id": "110626a9",
   "metadata": {},
   "source": [
    "During trips, the net change in energy is negative in the majority of occasions (change is commonly between 0 to -30)."
   ]
  },
  {
   "cell_type": "markdown",
   "id": "941f6907",
   "metadata": {},
   "source": [
    "# 3. Hypothesis testing"
   ]
  },
  {
   "cell_type": "markdown",
   "id": "84e19c45",
   "metadata": {},
   "source": [
    "### Q1\n",
    "\"Is there statistical evidence to claim that the travel times tend to be shorter or longer for the single than for the season ticket type. Justify your design choices, interpret the results and use your discoveries to make conclusions about customers.\""
   ]
  },
  {
   "cell_type": "code",
   "execution_count": 75,
   "id": "76aa637a",
   "metadata": {},
   "outputs": [],
   "source": [
    "single_distance = bikes_df[ bikes_df[\"ticket\"] == \"single\" ][\"distance\"]"
   ]
  },
  {
   "cell_type": "code",
   "execution_count": 76,
   "id": "f99966ea",
   "metadata": {},
   "outputs": [],
   "source": [
    "season_distance = bikes_df[ bikes_df[\"ticket\"] == \"season\" ][\"distance\"]"
   ]
  },
  {
   "cell_type": "code",
   "execution_count": 77,
   "id": "89624c1b",
   "metadata": {},
   "outputs": [
    {
     "name": "stdout",
     "output_type": "stream",
     "text": [
      "Data is not normally distributed\n"
     ]
    }
   ],
   "source": [
    "stat, p = stats.shapiro(single_distance)\n",
    "if p > 0.05:\n",
    "    print(\"Data may be normally distributed\")\n",
    "else:\n",
    "     print(\"Data is not normally distributed\")"
   ]
  },
  {
   "cell_type": "code",
   "execution_count": 78,
   "id": "173af766",
   "metadata": {
    "scrolled": true
   },
   "outputs": [
    {
     "name": "stdout",
     "output_type": "stream",
     "text": [
      "Data is not normally distributed\n"
     ]
    }
   ],
   "source": [
    "stat, p = stats.shapiro(season_distance)\n",
    "if p > 0.05:\n",
    "    print(\"Data may be normally distributed\")\n",
    "else:\n",
    "     print(\"Data is not normally distributed\")"
   ]
  },
  {
   "cell_type": "markdown",
   "id": "3f7d3bfb",
   "metadata": {},
   "source": [
    "As the datasets are not normally distributed, and they are unpaired -> Mann-Whitney U test should be used."
   ]
  },
  {
   "cell_type": "code",
   "execution_count": 80,
   "id": "be46dd09",
   "metadata": {},
   "outputs": [
    {
     "name": "stdout",
     "output_type": "stream",
     "text": [
      "p-value: 0.13848743696825913\n",
      "Datasets are not significantly different\n"
     ]
    }
   ],
   "source": [
    "p_dist = sp.stats.mannwhitneyu(single_distance,season_distance,use_continuity=True,alternative='two-sided')[1]\n",
    "print(\"p-value: \" + str(p_dist))\n",
    "if p_dist > 0.05:\n",
    "    print(\"Datasets are not significantly different\")\n",
    "else:\n",
    "    print(\"Datasets are significantly different\")"
   ]
  },
  {
   "cell_type": "markdown",
   "id": "f39efc3e",
   "metadata": {},
   "source": [
    "As the p-value is higher than 0.05, there is no statistical evidence to claim that the travel times tend to be different for customers with the single ticket type than for the customers with the season ticket type."
   ]
  },
  {
   "cell_type": "markdown",
   "id": "d2744b4d",
   "metadata": {},
   "source": [
    "### Q2\n",
    "\"Is there statistical evidence to claim that the travel distance positively correlates with the average rate at which electricity is consumed during the trip? Justify your design choices, interpret the results and use your discoveries to make conclusions about customers.\""
   ]
  },
  {
   "cell_type": "code",
   "execution_count": 84,
   "id": "55d47a0f",
   "metadata": {},
   "outputs": [
    {
     "name": "stdout",
     "output_type": "stream",
     "text": [
      "Data is not normally distributed\n"
     ]
    }
   ],
   "source": [
    "stat, p = stats.shapiro(bikes_df[\"distance\"])\n",
    "if p > 0.05:\n",
    "    print(\"Data may be normally distributed\")\n",
    "else:\n",
    "     print(\"Data is not normally distributed\")"
   ]
  },
  {
   "cell_type": "code",
   "execution_count": 85,
   "id": "828b1628",
   "metadata": {
    "scrolled": true
   },
   "outputs": [
    {
     "name": "stdout",
     "output_type": "stream",
     "text": [
      "Data is not normally distributed\n"
     ]
    }
   ],
   "source": [
    "stat, p = stats.shapiro(bikes_df[\"energy_used\"])\n",
    "if p > 0.05:\n",
    "    print(\"Data may be normally distributed\")\n",
    "else:\n",
    "     print(\"Data is not normally distributed\")"
   ]
  },
  {
   "cell_type": "markdown",
   "id": "1d32ae5a",
   "metadata": {},
   "source": [
    "As the data is not normally distributed, Spearman correlation should be used."
   ]
  },
  {
   "cell_type": "code",
   "execution_count": 91,
   "id": "7c902006",
   "metadata": {},
   "outputs": [
    {
     "name": "stdout",
     "output_type": "stream",
     "text": [
      "r= 0.827321307562592 p= 0.0\n",
      "Linearly significant\n"
     ]
    }
   ],
   "source": [
    "spearman = stats.spearmanr(bikes_df[\"distance\"],bikes_df[\"energy_used\"])\n",
    "print(\"r= \" + str(spearman[0]) + \" p= \" + str(spearman[1]))\n",
    "if spearman[1] > 0.05:\n",
    "    print(\"Not linearly significant\")\n",
    "else:\n",
    "    print(\"Linearly significant\")"
   ]
  },
  {
   "cell_type": "code",
   "execution_count": 104,
   "id": "590505f1",
   "metadata": {
    "scrolled": true
   },
   "outputs": [
    {
     "data": {
      "image/png": "[encoded data removed]",
      "text/plain": [
       "<Figure size 432x288 with 1 Axes>"
      ]
     },
     "metadata": {
      "needs_background": "light"
     },
     "output_type": "display_data"
    },
    {
     "data": {
      "text/plain": [
       "<Figure size 720x1080 with 0 Axes>"
      ]
     },
     "metadata": {},
     "output_type": "display_data"
    }
   ],
   "source": [
    "plt.scatter(bikes_df[\"distance\"], bikes_df[\"energy_used\"])\n",
    "plt.figure(figsize=(10,15))\n",
    "plt.show()"
   ]
  },
  {
   "cell_type": "markdown",
   "id": "8d21353d",
   "metadata": {},
   "source": [
    "There is strong statistical evidence that there is a high positive correlation between the distance travelled and the energy used during a trip. From this we could also assume that those customers who travel long distances are likely to use electrical assistance."
   ]
  },
  {
   "cell_type": "markdown",
   "id": "2d6050f2",
   "metadata": {},
   "source": [
    "### Q3\n",
    "\"Is there statistical evidence to claim that the savonia ticket type differs from the others with respect to how often the electric assistance is used? Justify your design choices, interpret the results and use your discoveries to make conclusions about customers.\""
   ]
  },
  {
   "cell_type": "code",
   "execution_count": 131,
   "id": "629d18b3",
   "metadata": {},
   "outputs": [],
   "source": [
    "assistance_savonia = bikes_df[bikes_df[\"ticket\"] == \"savonia\"][\"assistance\"]\n",
    "assistance_savonia = assistance_savonia.rename(\"Savonia\")"
   ]
  },
  {
   "cell_type": "code",
   "execution_count": 139,
   "id": "7216ee4a",
   "metadata": {
    "scrolled": true
   },
   "outputs": [],
   "source": [
    "assistance_single = bikes_df[bikes_df[\"ticket\"] == \"single\"][\"assistance\"]\n",
    "assistance_single = assistance_single.rename(\"Single\")"
   ]
  },
  {
   "cell_type": "code",
   "execution_count": 140,
   "id": "eef9c756",
   "metadata": {},
   "outputs": [],
   "source": [
    "assistance_season = bikes_df[bikes_df[\"ticket\"] == \"season\"][\"assistance\"]\n",
    "assistance_season = assistance_season.rename(\"Season\")"
   ]
  },
  {
   "cell_type": "markdown",
   "id": "214682bd",
   "metadata": {},
   "source": [
    "The values of the \"assistance\" variable are boolean, but they can be considered as categorical variables -> Pearson's chi-squared test can be used."
   ]
  },
  {
   "cell_type": "code",
   "execution_count": 141,
   "id": "76c460a7",
   "metadata": {},
   "outputs": [
    {
     "data": {
      "text/plain": [
       "[True     188\n",
       " False     28\n",
       " Name: Savonia, dtype: int64,\n",
       " True     755\n",
       " False     46\n",
       " Name: Single, dtype: int64,\n",
       " True     435\n",
       " False     16\n",
       " Name: Season, dtype: int64]"
      ]
     },
     "execution_count": 141,
     "metadata": {},
     "output_type": "execute_result"
    }
   ],
   "source": [
    "data_freq = [assistance_savonia.value_counts(), assistance_single.value_counts(), assistance_season.value_counts()]\n",
    "data_freq"
   ]
  },
  {
   "cell_type": "code",
   "execution_count": 142,
   "id": "247f9824",
   "metadata": {},
   "outputs": [
    {
     "data": {
      "text/html": [
       "<div>\n",
       "<style scoped>\n",
       "    .dataframe tbody tr th:only-of-type {\n",
       "        vertical-align: middle;\n",
       "    }\n",
       "\n",
       "    .dataframe tbody tr th {\n",
       "        vertical-align: top;\n",
       "    }\n",
       "\n",
       "    .dataframe thead th {\n",
       "        text-align: right;\n",
       "    }\n",
       "</style>\n",
       "<table border=\"1\" class=\"dataframe\">\n",
       "  <thead>\n",
       "    <tr style=\"text-align: right;\">\n",
       "      <th></th>\n",
       "      <th>Savonia</th>\n",
       "      <th>Single</th>\n",
       "      <th>Season</th>\n",
       "    </tr>\n",
       "  </thead>\n",
       "  <tbody>\n",
       "    <tr>\n",
       "      <th>True</th>\n",
       "      <td>188</td>\n",
       "      <td>755</td>\n",
       "      <td>435</td>\n",
       "    </tr>\n",
       "    <tr>\n",
       "      <th>False</th>\n",
       "      <td>28</td>\n",
       "      <td>46</td>\n",
       "      <td>16</td>\n",
       "    </tr>\n",
       "  </tbody>\n",
       "</table>\n",
       "</div>"
      ],
      "text/plain": [
       "       Savonia  Single  Season\n",
       "True       188     755     435\n",
       "False       28      46      16"
      ]
     },
     "execution_count": 142,
     "metadata": {},
     "output_type": "execute_result"
    }
   ],
   "source": [
    "df_freq = pd.DataFrame(data=data_freq)\n",
    "df_freq = df_freq.transpose()\n",
    "df_freq"
   ]
  },
  {
   "cell_type": "code",
   "execution_count": 143,
   "id": "ce16f02a",
   "metadata": {},
   "outputs": [
    {
     "data": {
      "text/plain": [
       "1.0342530983545507e-05"
      ]
     },
     "execution_count": 143,
     "metadata": {},
     "output_type": "execute_result"
    }
   ],
   "source": [
    "sp.stats.chi2_contingency(df_freq)[1]"
   ]
  },
  {
   "cell_type": "code",
   "execution_count": 144,
   "id": "613affea",
   "metadata": {},
   "outputs": [
    {
     "name": "stdout",
     "output_type": "stream",
     "text": [
      "p value is 1.0342530983545507e-05\n",
      "There is a significant difference\n"
     ]
    }
   ],
   "source": [
    "print(\"p value is \" + str(sp.stats.chi2_contingency(df_freq)[1]))\n",
    "if p <= 0.5:\n",
    "    print('There is a significant difference')\n",
    "else:\n",
    "    print('There is no significant difference')"
   ]
  },
  {
   "cell_type": "markdown",
   "id": "db61a053",
   "metadata": {},
   "source": [
    "The p-value is less than 0.05, which means there is statistical evidence to claim that the \"savonia\" ticket type differs from the others with respect to how often the electric assistance is used. We could conclude that those customers with the \"savonia\" ticket type are more likely to use electric assistance."
   ]
  },
  {
   "cell_type": "markdown",
   "id": "b370c3ca",
   "metadata": {},
   "source": [
    "# 4. Future directions\n",
    "\"Choose either (A) or (B) below.\n",
    "\n",
    "(A) Formulate your own hypothesis about the use of rental electric bikes. Explain why your hypothesis would be important to explore. Describe how the hypothesis could be tested. (You do not have to perform the analysis.)\n",
    "\n",
    "(B) Point out one or more problems in the questions asked or the approaches used above. Propose changes to address the problem(s). Explain how the changes would improve the statistical analysis.\""
   ]
  },
  {
   "cell_type": "markdown",
   "id": "8076197d",
   "metadata": {},
   "source": [
    "Option (B): <br>\n",
    "\" Find the three stations that have the highest total deficit of bikes (i.e. the largest negative difference between the number of arrived bikes and the number of departured bikes) and the three stations that have the highest total surplus of bikes (i.e. the largest positive difference). Examine your results and make suggestions about how bikes could be relocated.\" <br>\n",
    "<br>\n",
    "I believe to properly have this data answered, it would be necessary to have data about the exact time of arrivals and departures. With the current data, I could at best create an analysis for each month only, but even that wouldn't be too helpful if indeed there are some stations that struggle to maintain a decent number of bikes. To derive meaningful information, and to make sure that there are enough bikes at each station at all times, it would be useful to record the day of renting as well in future data collections. With that data, the fluctuation of available bikes could be modelled and forecasted more accurately. As of now, we just have an idea of which stations struggle with maintaining enough bikes, but we don't really know anything about at what points in time this actually becomes a problem."
   ]
  }
 ],
 "metadata": {
  "kernelspec": {
   "display_name": "Python 3 (ipykernel)",
   "language": "python",
   "name": "python3"
  },
  "language_info": {
   "codemirror_mode": {
    "name": "ipython",
    "version": 3
   },
   "file_extension": ".py",
   "mimetype": "text/x-python",
   "name": "python",
   "nbconvert_exporter": "python",
   "pygments_lexer": "ipython3",
   "version": "3.9.12"
  }
 },
 "nbformat": 4,
 "nbformat_minor": 5
}
